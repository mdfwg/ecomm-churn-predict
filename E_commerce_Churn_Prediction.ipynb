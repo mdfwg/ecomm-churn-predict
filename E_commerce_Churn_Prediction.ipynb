{
  "nbformat": 4,
  "nbformat_minor": 0,
  "metadata": {
    "colab": {
      "provenance": []
    },
    "kernelspec": {
      "name": "python3",
      "display_name": "Python 3"
    },
    "language_info": {
      "name": "python"
    }
  },
  "cells": [
    {
      "cell_type": "markdown",
      "source": [
        "Nama : Muhammad Dafa Wisnu Galih\n",
        "\n",
        "NIM : 22/503607/PA/21649"
      ],
      "metadata": {
        "id": "e3IF3sA4E_Kz"
      }
    },
    {
      "cell_type": "markdown",
      "source": [
        "#EDA (Task 2n3)"
      ],
      "metadata": {
        "id": "yFrnlUkqcjV3"
      }
    },
    {
      "cell_type": "markdown",
      "source": [
        "##Import Library dan Dataset"
      ],
      "metadata": {
        "id": "CYs67eJGTdhi"
      }
    },
    {
      "cell_type": "code",
      "execution_count": null,
      "metadata": {
        "id": "qncXBCmG9iZY"
      },
      "outputs": [],
      "source": [
        "import numpy as np # linear algebra\n",
        "import pandas as pd # data processing, CSV file I/O (e.g. pd.read_csv)\n",
        "import matplotlib.pyplot as plt\n",
        "import seaborn as sns\n",
        "%matplotlib inline\n",
        "import warnings\n",
        "warnings.filterwarnings(\"ignore\")\n",
        "import matplotlib.ticker as ticker"
      ]
    },
    {
      "cell_type": "code",
      "source": [
        "df = pd.read_excel(\"/content/drive/MyDrive/[Dataset for Colab]/E Commerce Dataset (1).xlsx\", sheet_name = \"E Comm\")"
      ],
      "metadata": {
        "id": "KDNVJHIU-Sec"
      },
      "execution_count": null,
      "outputs": []
    },
    {
      "cell_type": "markdown",
      "source": [
        "##Informasi Awal tentang Dataset"
      ],
      "metadata": {
        "id": "WfQJjbb9UbIx"
      }
    },
    {
      "cell_type": "code",
      "source": [
        "df.head(10)"
      ],
      "metadata": {
        "colab": {
          "base_uri": "https://localhost:8080/"
        },
        "id": "7jJg_Hi6AUz_",
        "outputId": "c4e6c1ee-2cc8-4540-e540-fb7897e5b43f"
      },
      "execution_count": null,
      "outputs": [
        {
          "output_type": "execute_result",
          "data": {
            "text/plain": [
              "   CustomerID  Churn  Tenure PreferredLoginDevice  CityTier  WarehouseToHome  \\\n",
              "0       50001      1     4.0         Mobile Phone         3              6.0   \n",
              "1       50002      1     NaN                Phone         1              8.0   \n",
              "2       50003      1     NaN                Phone         1             30.0   \n",
              "3       50004      1     0.0                Phone         3             15.0   \n",
              "4       50005      1     0.0                Phone         1             12.0   \n",
              "5       50006      1     0.0             Computer         1             22.0   \n",
              "6       50007      1     NaN                Phone         3             11.0   \n",
              "7       50008      1     NaN                Phone         1              6.0   \n",
              "8       50009      1    13.0                Phone         3              9.0   \n",
              "9       50010      1     NaN                Phone         1             31.0   \n",
              "\n",
              "  PreferredPaymentMode  Gender  HourSpendOnApp  NumberOfDeviceRegistered  \\\n",
              "0           Debit Card  Female             3.0                         3   \n",
              "1                  UPI    Male             3.0                         4   \n",
              "2           Debit Card    Male             2.0                         4   \n",
              "3           Debit Card    Male             2.0                         4   \n",
              "4                   CC    Male             NaN                         3   \n",
              "5           Debit Card  Female             3.0                         5   \n",
              "6     Cash on Delivery    Male             2.0                         3   \n",
              "7                   CC    Male             3.0                         3   \n",
              "8             E wallet    Male             NaN                         4   \n",
              "9           Debit Card    Male             2.0                         5   \n",
              "\n",
              "     PreferedOrderCat  SatisfactionScore MaritalStatus  NumberOfAddress  \\\n",
              "0  Laptop & Accessory                  2        Single                9   \n",
              "1              Mobile                  3        Single                7   \n",
              "2              Mobile                  3        Single                6   \n",
              "3  Laptop & Accessory                  5        Single                8   \n",
              "4              Mobile                  5        Single                3   \n",
              "5        Mobile Phone                  5        Single                2   \n",
              "6  Laptop & Accessory                  2      Divorced                4   \n",
              "7              Mobile                  2      Divorced                3   \n",
              "8              Mobile                  3      Divorced                2   \n",
              "9              Mobile                  3        Single                2   \n",
              "\n",
              "   Complain  OrderAmountHikeFromlastYear  CouponUsed  OrderCount  \\\n",
              "0         1                         11.0         1.0         1.0   \n",
              "1         1                         15.0         0.0         1.0   \n",
              "2         1                         14.0         0.0         1.0   \n",
              "3         0                         23.0         0.0         1.0   \n",
              "4         0                         11.0         1.0         1.0   \n",
              "5         1                         22.0         4.0         6.0   \n",
              "6         0                         14.0         0.0         1.0   \n",
              "7         1                         16.0         2.0         2.0   \n",
              "8         1                         14.0         0.0         1.0   \n",
              "9         0                         12.0         1.0         1.0   \n",
              "\n",
              "   DaySinceLastOrder  CashbackAmount  \n",
              "0                5.0          159.93  \n",
              "1                0.0          120.90  \n",
              "2                3.0          120.28  \n",
              "3                3.0          134.07  \n",
              "4                3.0          129.60  \n",
              "5                7.0          139.19  \n",
              "6                0.0          120.86  \n",
              "7                0.0          122.93  \n",
              "8                2.0          126.83  \n",
              "9                1.0          122.93  "
            ],
            "text/html": [
              "\n",
              "  <div id=\"df-7f290bb5-4a58-48b2-8942-6bf6d813c7b9\">\n",
              "    <div class=\"colab-df-container\">\n",
              "      <div>\n",
              "<style scoped>\n",
              "    .dataframe tbody tr th:only-of-type {\n",
              "        vertical-align: middle;\n",
              "    }\n",
              "\n",
              "    .dataframe tbody tr th {\n",
              "        vertical-align: top;\n",
              "    }\n",
              "\n",
              "    .dataframe thead th {\n",
              "        text-align: right;\n",
              "    }\n",
              "</style>\n",
              "<table border=\"1\" class=\"dataframe\">\n",
              "  <thead>\n",
              "    <tr style=\"text-align: right;\">\n",
              "      <th></th>\n",
              "      <th>CustomerID</th>\n",
              "      <th>Churn</th>\n",
              "      <th>Tenure</th>\n",
              "      <th>PreferredLoginDevice</th>\n",
              "      <th>CityTier</th>\n",
              "      <th>WarehouseToHome</th>\n",
              "      <th>PreferredPaymentMode</th>\n",
              "      <th>Gender</th>\n",
              "      <th>HourSpendOnApp</th>\n",
              "      <th>NumberOfDeviceRegistered</th>\n",
              "      <th>PreferedOrderCat</th>\n",
              "      <th>SatisfactionScore</th>\n",
              "      <th>MaritalStatus</th>\n",
              "      <th>NumberOfAddress</th>\n",
              "      <th>Complain</th>\n",
              "      <th>OrderAmountHikeFromlastYear</th>\n",
              "      <th>CouponUsed</th>\n",
              "      <th>OrderCount</th>\n",
              "      <th>DaySinceLastOrder</th>\n",
              "      <th>CashbackAmount</th>\n",
              "    </tr>\n",
              "  </thead>\n",
              "  <tbody>\n",
              "    <tr>\n",
              "      <th>0</th>\n",
              "      <td>50001</td>\n",
              "      <td>1</td>\n",
              "      <td>4.0</td>\n",
              "      <td>Mobile Phone</td>\n",
              "      <td>3</td>\n",
              "      <td>6.0</td>\n",
              "      <td>Debit Card</td>\n",
              "      <td>Female</td>\n",
              "      <td>3.0</td>\n",
              "      <td>3</td>\n",
              "      <td>Laptop &amp; Accessory</td>\n",
              "      <td>2</td>\n",
              "      <td>Single</td>\n",
              "      <td>9</td>\n",
              "      <td>1</td>\n",
              "      <td>11.0</td>\n",
              "      <td>1.0</td>\n",
              "      <td>1.0</td>\n",
              "      <td>5.0</td>\n",
              "      <td>159.93</td>\n",
              "    </tr>\n",
              "    <tr>\n",
              "      <th>1</th>\n",
              "      <td>50002</td>\n",
              "      <td>1</td>\n",
              "      <td>NaN</td>\n",
              "      <td>Phone</td>\n",
              "      <td>1</td>\n",
              "      <td>8.0</td>\n",
              "      <td>UPI</td>\n",
              "      <td>Male</td>\n",
              "      <td>3.0</td>\n",
              "      <td>4</td>\n",
              "      <td>Mobile</td>\n",
              "      <td>3</td>\n",
              "      <td>Single</td>\n",
              "      <td>7</td>\n",
              "      <td>1</td>\n",
              "      <td>15.0</td>\n",
              "      <td>0.0</td>\n",
              "      <td>1.0</td>\n",
              "      <td>0.0</td>\n",
              "      <td>120.90</td>\n",
              "    </tr>\n",
              "    <tr>\n",
              "      <th>2</th>\n",
              "      <td>50003</td>\n",
              "      <td>1</td>\n",
              "      <td>NaN</td>\n",
              "      <td>Phone</td>\n",
              "      <td>1</td>\n",
              "      <td>30.0</td>\n",
              "      <td>Debit Card</td>\n",
              "      <td>Male</td>\n",
              "      <td>2.0</td>\n",
              "      <td>4</td>\n",
              "      <td>Mobile</td>\n",
              "      <td>3</td>\n",
              "      <td>Single</td>\n",
              "      <td>6</td>\n",
              "      <td>1</td>\n",
              "      <td>14.0</td>\n",
              "      <td>0.0</td>\n",
              "      <td>1.0</td>\n",
              "      <td>3.0</td>\n",
              "      <td>120.28</td>\n",
              "    </tr>\n",
              "    <tr>\n",
              "      <th>3</th>\n",
              "      <td>50004</td>\n",
              "      <td>1</td>\n",
              "      <td>0.0</td>\n",
              "      <td>Phone</td>\n",
              "      <td>3</td>\n",
              "      <td>15.0</td>\n",
              "      <td>Debit Card</td>\n",
              "      <td>Male</td>\n",
              "      <td>2.0</td>\n",
              "      <td>4</td>\n",
              "      <td>Laptop &amp; Accessory</td>\n",
              "      <td>5</td>\n",
              "      <td>Single</td>\n",
              "      <td>8</td>\n",
              "      <td>0</td>\n",
              "      <td>23.0</td>\n",
              "      <td>0.0</td>\n",
              "      <td>1.0</td>\n",
              "      <td>3.0</td>\n",
              "      <td>134.07</td>\n",
              "    </tr>\n",
              "    <tr>\n",
              "      <th>4</th>\n",
              "      <td>50005</td>\n",
              "      <td>1</td>\n",
              "      <td>0.0</td>\n",
              "      <td>Phone</td>\n",
              "      <td>1</td>\n",
              "      <td>12.0</td>\n",
              "      <td>CC</td>\n",
              "      <td>Male</td>\n",
              "      <td>NaN</td>\n",
              "      <td>3</td>\n",
              "      <td>Mobile</td>\n",
              "      <td>5</td>\n",
              "      <td>Single</td>\n",
              "      <td>3</td>\n",
              "      <td>0</td>\n",
              "      <td>11.0</td>\n",
              "      <td>1.0</td>\n",
              "      <td>1.0</td>\n",
              "      <td>3.0</td>\n",
              "      <td>129.60</td>\n",
              "    </tr>\n",
              "    <tr>\n",
              "      <th>5</th>\n",
              "      <td>50006</td>\n",
              "      <td>1</td>\n",
              "      <td>0.0</td>\n",
              "      <td>Computer</td>\n",
              "      <td>1</td>\n",
              "      <td>22.0</td>\n",
              "      <td>Debit Card</td>\n",
              "      <td>Female</td>\n",
              "      <td>3.0</td>\n",
              "      <td>5</td>\n",
              "      <td>Mobile Phone</td>\n",
              "      <td>5</td>\n",
              "      <td>Single</td>\n",
              "      <td>2</td>\n",
              "      <td>1</td>\n",
              "      <td>22.0</td>\n",
              "      <td>4.0</td>\n",
              "      <td>6.0</td>\n",
              "      <td>7.0</td>\n",
              "      <td>139.19</td>\n",
              "    </tr>\n",
              "    <tr>\n",
              "      <th>6</th>\n",
              "      <td>50007</td>\n",
              "      <td>1</td>\n",
              "      <td>NaN</td>\n",
              "      <td>Phone</td>\n",
              "      <td>3</td>\n",
              "      <td>11.0</td>\n",
              "      <td>Cash on Delivery</td>\n",
              "      <td>Male</td>\n",
              "      <td>2.0</td>\n",
              "      <td>3</td>\n",
              "      <td>Laptop &amp; Accessory</td>\n",
              "      <td>2</td>\n",
              "      <td>Divorced</td>\n",
              "      <td>4</td>\n",
              "      <td>0</td>\n",
              "      <td>14.0</td>\n",
              "      <td>0.0</td>\n",
              "      <td>1.0</td>\n",
              "      <td>0.0</td>\n",
              "      <td>120.86</td>\n",
              "    </tr>\n",
              "    <tr>\n",
              "      <th>7</th>\n",
              "      <td>50008</td>\n",
              "      <td>1</td>\n",
              "      <td>NaN</td>\n",
              "      <td>Phone</td>\n",
              "      <td>1</td>\n",
              "      <td>6.0</td>\n",
              "      <td>CC</td>\n",
              "      <td>Male</td>\n",
              "      <td>3.0</td>\n",
              "      <td>3</td>\n",
              "      <td>Mobile</td>\n",
              "      <td>2</td>\n",
              "      <td>Divorced</td>\n",
              "      <td>3</td>\n",
              "      <td>1</td>\n",
              "      <td>16.0</td>\n",
              "      <td>2.0</td>\n",
              "      <td>2.0</td>\n",
              "      <td>0.0</td>\n",
              "      <td>122.93</td>\n",
              "    </tr>\n",
              "    <tr>\n",
              "      <th>8</th>\n",
              "      <td>50009</td>\n",
              "      <td>1</td>\n",
              "      <td>13.0</td>\n",
              "      <td>Phone</td>\n",
              "      <td>3</td>\n",
              "      <td>9.0</td>\n",
              "      <td>E wallet</td>\n",
              "      <td>Male</td>\n",
              "      <td>NaN</td>\n",
              "      <td>4</td>\n",
              "      <td>Mobile</td>\n",
              "      <td>3</td>\n",
              "      <td>Divorced</td>\n",
              "      <td>2</td>\n",
              "      <td>1</td>\n",
              "      <td>14.0</td>\n",
              "      <td>0.0</td>\n",
              "      <td>1.0</td>\n",
              "      <td>2.0</td>\n",
              "      <td>126.83</td>\n",
              "    </tr>\n",
              "    <tr>\n",
              "      <th>9</th>\n",
              "      <td>50010</td>\n",
              "      <td>1</td>\n",
              "      <td>NaN</td>\n",
              "      <td>Phone</td>\n",
              "      <td>1</td>\n",
              "      <td>31.0</td>\n",
              "      <td>Debit Card</td>\n",
              "      <td>Male</td>\n",
              "      <td>2.0</td>\n",
              "      <td>5</td>\n",
              "      <td>Mobile</td>\n",
              "      <td>3</td>\n",
              "      <td>Single</td>\n",
              "      <td>2</td>\n",
              "      <td>0</td>\n",
              "      <td>12.0</td>\n",
              "      <td>1.0</td>\n",
              "      <td>1.0</td>\n",
              "      <td>1.0</td>\n",
              "      <td>122.93</td>\n",
              "    </tr>\n",
              "  </tbody>\n",
              "</table>\n",
              "</div>\n",
              "      <button class=\"colab-df-convert\" onclick=\"convertToInteractive('df-7f290bb5-4a58-48b2-8942-6bf6d813c7b9')\"\n",
              "              title=\"Convert this dataframe to an interactive table.\"\n",
              "              style=\"display:none;\">\n",
              "        \n",
              "  <svg xmlns=\"http://www.w3.org/2000/svg\" height=\"24px\"viewBox=\"0 0 24 24\"\n",
              "       width=\"24px\">\n",
              "    <path d=\"M0 0h24v24H0V0z\" fill=\"none\"/>\n",
              "    <path d=\"M18.56 5.44l.94 2.06.94-2.06 2.06-.94-2.06-.94-.94-2.06-.94 2.06-2.06.94zm-11 1L8.5 8.5l.94-2.06 2.06-.94-2.06-.94L8.5 2.5l-.94 2.06-2.06.94zm10 10l.94 2.06.94-2.06 2.06-.94-2.06-.94-.94-2.06-.94 2.06-2.06.94z\"/><path d=\"M17.41 7.96l-1.37-1.37c-.4-.4-.92-.59-1.43-.59-.52 0-1.04.2-1.43.59L10.3 9.45l-7.72 7.72c-.78.78-.78 2.05 0 2.83L4 21.41c.39.39.9.59 1.41.59.51 0 1.02-.2 1.41-.59l7.78-7.78 2.81-2.81c.8-.78.8-2.07 0-2.86zM5.41 20L4 18.59l7.72-7.72 1.47 1.35L5.41 20z\"/>\n",
              "  </svg>\n",
              "      </button>\n",
              "      \n",
              "  <style>\n",
              "    .colab-df-container {\n",
              "      display:flex;\n",
              "      flex-wrap:wrap;\n",
              "      gap: 12px;\n",
              "    }\n",
              "\n",
              "    .colab-df-convert {\n",
              "      background-color: #E8F0FE;\n",
              "      border: none;\n",
              "      border-radius: 50%;\n",
              "      cursor: pointer;\n",
              "      display: none;\n",
              "      fill: #1967D2;\n",
              "      height: 32px;\n",
              "      padding: 0 0 0 0;\n",
              "      width: 32px;\n",
              "    }\n",
              "\n",
              "    .colab-df-convert:hover {\n",
              "      background-color: #E2EBFA;\n",
              "      box-shadow: 0px 1px 2px rgba(60, 64, 67, 0.3), 0px 1px 3px 1px rgba(60, 64, 67, 0.15);\n",
              "      fill: #174EA6;\n",
              "    }\n",
              "\n",
              "    [theme=dark] .colab-df-convert {\n",
              "      background-color: #3B4455;\n",
              "      fill: #D2E3FC;\n",
              "    }\n",
              "\n",
              "    [theme=dark] .colab-df-convert:hover {\n",
              "      background-color: #434B5C;\n",
              "      box-shadow: 0px 1px 3px 1px rgba(0, 0, 0, 0.15);\n",
              "      filter: drop-shadow(0px 1px 2px rgba(0, 0, 0, 0.3));\n",
              "      fill: #FFFFFF;\n",
              "    }\n",
              "  </style>\n",
              "\n",
              "      <script>\n",
              "        const buttonEl =\n",
              "          document.querySelector('#df-7f290bb5-4a58-48b2-8942-6bf6d813c7b9 button.colab-df-convert');\n",
              "        buttonEl.style.display =\n",
              "          google.colab.kernel.accessAllowed ? 'block' : 'none';\n",
              "\n",
              "        async function convertToInteractive(key) {\n",
              "          const element = document.querySelector('#df-7f290bb5-4a58-48b2-8942-6bf6d813c7b9');\n",
              "          const dataTable =\n",
              "            await google.colab.kernel.invokeFunction('convertToInteractive',\n",
              "                                                     [key], {});\n",
              "          if (!dataTable) return;\n",
              "\n",
              "          const docLinkHtml = 'Like what you see? Visit the ' +\n",
              "            '<a target=\"_blank\" href=https://colab.research.google.com/notebooks/data_table.ipynb>data table notebook</a>'\n",
              "            + ' to learn more about interactive tables.';\n",
              "          element.innerHTML = '';\n",
              "          dataTable['output_type'] = 'display_data';\n",
              "          await google.colab.output.renderOutput(dataTable, element);\n",
              "          const docLink = document.createElement('div');\n",
              "          docLink.innerHTML = docLinkHtml;\n",
              "          element.appendChild(docLink);\n",
              "        }\n",
              "      </script>\n",
              "    </div>\n",
              "  </div>\n",
              "  "
            ]
          },
          "metadata": {},
          "execution_count": 81
        }
      ]
    },
    {
      "cell_type": "code",
      "source": [
        "df.info()"
      ],
      "metadata": {
        "colab": {
          "base_uri": "https://localhost:8080/"
        },
        "id": "_Vp9iju1BGmN",
        "outputId": "83797e2e-d0f2-4d8f-c4e1-3c759d51918a"
      },
      "execution_count": null,
      "outputs": [
        {
          "output_type": "stream",
          "name": "stdout",
          "text": [
            "<class 'pandas.core.frame.DataFrame'>\n",
            "RangeIndex: 5630 entries, 0 to 5629\n",
            "Data columns (total 20 columns):\n",
            " #   Column                       Non-Null Count  Dtype  \n",
            "---  ------                       --------------  -----  \n",
            " 0   CustomerID                   5630 non-null   int64  \n",
            " 1   Churn                        5630 non-null   int64  \n",
            " 2   Tenure                       5366 non-null   float64\n",
            " 3   PreferredLoginDevice         5630 non-null   object \n",
            " 4   CityTier                     5630 non-null   int64  \n",
            " 5   WarehouseToHome              5379 non-null   float64\n",
            " 6   PreferredPaymentMode         5630 non-null   object \n",
            " 7   Gender                       5630 non-null   object \n",
            " 8   HourSpendOnApp               5375 non-null   float64\n",
            " 9   NumberOfDeviceRegistered     5630 non-null   int64  \n",
            " 10  PreferedOrderCat             5630 non-null   object \n",
            " 11  SatisfactionScore            5630 non-null   int64  \n",
            " 12  MaritalStatus                5630 non-null   object \n",
            " 13  NumberOfAddress              5630 non-null   int64  \n",
            " 14  Complain                     5630 non-null   int64  \n",
            " 15  OrderAmountHikeFromlastYear  5365 non-null   float64\n",
            " 16  CouponUsed                   5374 non-null   float64\n",
            " 17  OrderCount                   5372 non-null   float64\n",
            " 18  DaySinceLastOrder            5323 non-null   float64\n",
            " 19  CashbackAmount               5630 non-null   float64\n",
            "dtypes: float64(8), int64(7), object(5)\n",
            "memory usage: 879.8+ KB\n"
          ]
        }
      ]
    },
    {
      "cell_type": "code",
      "source": [
        "df.shape"
      ],
      "metadata": {
        "colab": {
          "base_uri": "https://localhost:8080/"
        },
        "id": "-iw5lIfzbkNY",
        "outputId": "75d4578a-f22c-4fa6-b8da-2d9095a745e8"
      },
      "execution_count": null,
      "outputs": [
        {
          "output_type": "execute_result",
          "data": {
            "text/plain": [
              "(5630, 20)"
            ]
          },
          "metadata": {},
          "execution_count": 83
        }
      ]
    },
    {
      "cell_type": "markdown",
      "source": [
        "Dari kode di atas diketahui bahwa dataset ini memiliki 20 fitur dengan 5 fitur kategorikal dan 15 fitur numerikal. Kemudian kita bagi dataset tersebut menjadi dua, yaitu kategorikal dan numerikal."
      ],
      "metadata": {
        "id": "fMQeatV-VDX6"
      }
    },
    {
      "cell_type": "code",
      "source": [
        "categorical = [\"PreferredLoginDevice\", \"PreferredPaymentMode\", \"Gender\", \"PreferedOrderCat\", \"MaritalStatus\"]\n",
        "numerical = [\"Churn\", \"Tenure\", \"CityTier\", \"WarehouseToHome\", \"HourSpendOnApp\", \"NumberOfDeviceRegistered\", \"SatisfactionScore\", \"NumberOfAddress\", \"Complain\", \"OrderAmountHikeFromlastYear\", \"CouponUsed\", \"OrderCount\", \"DaySinceLastOrder\", \"CashbackAmount\"]"
      ],
      "metadata": {
        "id": "tWTuEBDFbmE2"
      },
      "execution_count": null,
      "outputs": []
    },
    {
      "cell_type": "code",
      "source": [
        "df[numerical].describe()"
      ],
      "metadata": {
        "colab": {
          "base_uri": "https://localhost:8080/"
        },
        "outputId": "bba467aa-c680-4473-fd99-ecf5334cc1a4",
        "id": "k92OQn0YgXQF"
      },
      "execution_count": null,
      "outputs": [
        {
          "output_type": "execute_result",
          "data": {
            "text/plain": [
              "             Churn       Tenure     CityTier  WarehouseToHome  HourSpendOnApp  \\\n",
              "count  5630.000000  5366.000000  5630.000000      5379.000000     5375.000000   \n",
              "mean      0.168384    10.189899     1.654707        15.639896        2.931535   \n",
              "std       0.374240     8.557241     0.915389         8.531475        0.721926   \n",
              "min       0.000000     0.000000     1.000000         5.000000        0.000000   \n",
              "25%       0.000000     2.000000     1.000000         9.000000        2.000000   \n",
              "50%       0.000000     9.000000     1.000000        14.000000        3.000000   \n",
              "75%       0.000000    16.000000     3.000000        20.000000        3.000000   \n",
              "max       1.000000    61.000000     3.000000       127.000000        5.000000   \n",
              "\n",
              "       NumberOfDeviceRegistered  SatisfactionScore  NumberOfAddress  \\\n",
              "count               5630.000000        5630.000000      5630.000000   \n",
              "mean                   3.688988           3.066785         4.214032   \n",
              "std                    1.023999           1.380194         2.583586   \n",
              "min                    1.000000           1.000000         1.000000   \n",
              "25%                    3.000000           2.000000         2.000000   \n",
              "50%                    4.000000           3.000000         3.000000   \n",
              "75%                    4.000000           4.000000         6.000000   \n",
              "max                    6.000000           5.000000        22.000000   \n",
              "\n",
              "          Complain  OrderAmountHikeFromlastYear   CouponUsed   OrderCount  \\\n",
              "count  5630.000000                  5365.000000  5374.000000  5372.000000   \n",
              "mean      0.284902                    15.707922     1.751023     3.008004   \n",
              "std       0.451408                     3.675485     1.894621     2.939680   \n",
              "min       0.000000                    11.000000     0.000000     1.000000   \n",
              "25%       0.000000                    13.000000     1.000000     1.000000   \n",
              "50%       0.000000                    15.000000     1.000000     2.000000   \n",
              "75%       1.000000                    18.000000     2.000000     3.000000   \n",
              "max       1.000000                    26.000000    16.000000    16.000000   \n",
              "\n",
              "       DaySinceLastOrder  CashbackAmount  \n",
              "count        5323.000000     5630.000000  \n",
              "mean            4.543491      177.223030  \n",
              "std             3.654433       49.207036  \n",
              "min             0.000000        0.000000  \n",
              "25%             2.000000      145.770000  \n",
              "50%             3.000000      163.280000  \n",
              "75%             7.000000      196.392500  \n",
              "max            46.000000      324.990000  "
            ],
            "text/html": [
              "\n",
              "  <div id=\"df-0000a6bb-78c9-4fa2-a09f-425ac13842b3\">\n",
              "    <div class=\"colab-df-container\">\n",
              "      <div>\n",
              "<style scoped>\n",
              "    .dataframe tbody tr th:only-of-type {\n",
              "        vertical-align: middle;\n",
              "    }\n",
              "\n",
              "    .dataframe tbody tr th {\n",
              "        vertical-align: top;\n",
              "    }\n",
              "\n",
              "    .dataframe thead th {\n",
              "        text-align: right;\n",
              "    }\n",
              "</style>\n",
              "<table border=\"1\" class=\"dataframe\">\n",
              "  <thead>\n",
              "    <tr style=\"text-align: right;\">\n",
              "      <th></th>\n",
              "      <th>Churn</th>\n",
              "      <th>Tenure</th>\n",
              "      <th>CityTier</th>\n",
              "      <th>WarehouseToHome</th>\n",
              "      <th>HourSpendOnApp</th>\n",
              "      <th>NumberOfDeviceRegistered</th>\n",
              "      <th>SatisfactionScore</th>\n",
              "      <th>NumberOfAddress</th>\n",
              "      <th>Complain</th>\n",
              "      <th>OrderAmountHikeFromlastYear</th>\n",
              "      <th>CouponUsed</th>\n",
              "      <th>OrderCount</th>\n",
              "      <th>DaySinceLastOrder</th>\n",
              "      <th>CashbackAmount</th>\n",
              "    </tr>\n",
              "  </thead>\n",
              "  <tbody>\n",
              "    <tr>\n",
              "      <th>count</th>\n",
              "      <td>5630.000000</td>\n",
              "      <td>5366.000000</td>\n",
              "      <td>5630.000000</td>\n",
              "      <td>5379.000000</td>\n",
              "      <td>5375.000000</td>\n",
              "      <td>5630.000000</td>\n",
              "      <td>5630.000000</td>\n",
              "      <td>5630.000000</td>\n",
              "      <td>5630.000000</td>\n",
              "      <td>5365.000000</td>\n",
              "      <td>5374.000000</td>\n",
              "      <td>5372.000000</td>\n",
              "      <td>5323.000000</td>\n",
              "      <td>5630.000000</td>\n",
              "    </tr>\n",
              "    <tr>\n",
              "      <th>mean</th>\n",
              "      <td>0.168384</td>\n",
              "      <td>10.189899</td>\n",
              "      <td>1.654707</td>\n",
              "      <td>15.639896</td>\n",
              "      <td>2.931535</td>\n",
              "      <td>3.688988</td>\n",
              "      <td>3.066785</td>\n",
              "      <td>4.214032</td>\n",
              "      <td>0.284902</td>\n",
              "      <td>15.707922</td>\n",
              "      <td>1.751023</td>\n",
              "      <td>3.008004</td>\n",
              "      <td>4.543491</td>\n",
              "      <td>177.223030</td>\n",
              "    </tr>\n",
              "    <tr>\n",
              "      <th>std</th>\n",
              "      <td>0.374240</td>\n",
              "      <td>8.557241</td>\n",
              "      <td>0.915389</td>\n",
              "      <td>8.531475</td>\n",
              "      <td>0.721926</td>\n",
              "      <td>1.023999</td>\n",
              "      <td>1.380194</td>\n",
              "      <td>2.583586</td>\n",
              "      <td>0.451408</td>\n",
              "      <td>3.675485</td>\n",
              "      <td>1.894621</td>\n",
              "      <td>2.939680</td>\n",
              "      <td>3.654433</td>\n",
              "      <td>49.207036</td>\n",
              "    </tr>\n",
              "    <tr>\n",
              "      <th>min</th>\n",
              "      <td>0.000000</td>\n",
              "      <td>0.000000</td>\n",
              "      <td>1.000000</td>\n",
              "      <td>5.000000</td>\n",
              "      <td>0.000000</td>\n",
              "      <td>1.000000</td>\n",
              "      <td>1.000000</td>\n",
              "      <td>1.000000</td>\n",
              "      <td>0.000000</td>\n",
              "      <td>11.000000</td>\n",
              "      <td>0.000000</td>\n",
              "      <td>1.000000</td>\n",
              "      <td>0.000000</td>\n",
              "      <td>0.000000</td>\n",
              "    </tr>\n",
              "    <tr>\n",
              "      <th>25%</th>\n",
              "      <td>0.000000</td>\n",
              "      <td>2.000000</td>\n",
              "      <td>1.000000</td>\n",
              "      <td>9.000000</td>\n",
              "      <td>2.000000</td>\n",
              "      <td>3.000000</td>\n",
              "      <td>2.000000</td>\n",
              "      <td>2.000000</td>\n",
              "      <td>0.000000</td>\n",
              "      <td>13.000000</td>\n",
              "      <td>1.000000</td>\n",
              "      <td>1.000000</td>\n",
              "      <td>2.000000</td>\n",
              "      <td>145.770000</td>\n",
              "    </tr>\n",
              "    <tr>\n",
              "      <th>50%</th>\n",
              "      <td>0.000000</td>\n",
              "      <td>9.000000</td>\n",
              "      <td>1.000000</td>\n",
              "      <td>14.000000</td>\n",
              "      <td>3.000000</td>\n",
              "      <td>4.000000</td>\n",
              "      <td>3.000000</td>\n",
              "      <td>3.000000</td>\n",
              "      <td>0.000000</td>\n",
              "      <td>15.000000</td>\n",
              "      <td>1.000000</td>\n",
              "      <td>2.000000</td>\n",
              "      <td>3.000000</td>\n",
              "      <td>163.280000</td>\n",
              "    </tr>\n",
              "    <tr>\n",
              "      <th>75%</th>\n",
              "      <td>0.000000</td>\n",
              "      <td>16.000000</td>\n",
              "      <td>3.000000</td>\n",
              "      <td>20.000000</td>\n",
              "      <td>3.000000</td>\n",
              "      <td>4.000000</td>\n",
              "      <td>4.000000</td>\n",
              "      <td>6.000000</td>\n",
              "      <td>1.000000</td>\n",
              "      <td>18.000000</td>\n",
              "      <td>2.000000</td>\n",
              "      <td>3.000000</td>\n",
              "      <td>7.000000</td>\n",
              "      <td>196.392500</td>\n",
              "    </tr>\n",
              "    <tr>\n",
              "      <th>max</th>\n",
              "      <td>1.000000</td>\n",
              "      <td>61.000000</td>\n",
              "      <td>3.000000</td>\n",
              "      <td>127.000000</td>\n",
              "      <td>5.000000</td>\n",
              "      <td>6.000000</td>\n",
              "      <td>5.000000</td>\n",
              "      <td>22.000000</td>\n",
              "      <td>1.000000</td>\n",
              "      <td>26.000000</td>\n",
              "      <td>16.000000</td>\n",
              "      <td>16.000000</td>\n",
              "      <td>46.000000</td>\n",
              "      <td>324.990000</td>\n",
              "    </tr>\n",
              "  </tbody>\n",
              "</table>\n",
              "</div>\n",
              "      <button class=\"colab-df-convert\" onclick=\"convertToInteractive('df-0000a6bb-78c9-4fa2-a09f-425ac13842b3')\"\n",
              "              title=\"Convert this dataframe to an interactive table.\"\n",
              "              style=\"display:none;\">\n",
              "        \n",
              "  <svg xmlns=\"http://www.w3.org/2000/svg\" height=\"24px\"viewBox=\"0 0 24 24\"\n",
              "       width=\"24px\">\n",
              "    <path d=\"M0 0h24v24H0V0z\" fill=\"none\"/>\n",
              "    <path d=\"M18.56 5.44l.94 2.06.94-2.06 2.06-.94-2.06-.94-.94-2.06-.94 2.06-2.06.94zm-11 1L8.5 8.5l.94-2.06 2.06-.94-2.06-.94L8.5 2.5l-.94 2.06-2.06.94zm10 10l.94 2.06.94-2.06 2.06-.94-2.06-.94-.94-2.06-.94 2.06-2.06.94z\"/><path d=\"M17.41 7.96l-1.37-1.37c-.4-.4-.92-.59-1.43-.59-.52 0-1.04.2-1.43.59L10.3 9.45l-7.72 7.72c-.78.78-.78 2.05 0 2.83L4 21.41c.39.39.9.59 1.41.59.51 0 1.02-.2 1.41-.59l7.78-7.78 2.81-2.81c.8-.78.8-2.07 0-2.86zM5.41 20L4 18.59l7.72-7.72 1.47 1.35L5.41 20z\"/>\n",
              "  </svg>\n",
              "      </button>\n",
              "      \n",
              "  <style>\n",
              "    .colab-df-container {\n",
              "      display:flex;\n",
              "      flex-wrap:wrap;\n",
              "      gap: 12px;\n",
              "    }\n",
              "\n",
              "    .colab-df-convert {\n",
              "      background-color: #E8F0FE;\n",
              "      border: none;\n",
              "      border-radius: 50%;\n",
              "      cursor: pointer;\n",
              "      display: none;\n",
              "      fill: #1967D2;\n",
              "      height: 32px;\n",
              "      padding: 0 0 0 0;\n",
              "      width: 32px;\n",
              "    }\n",
              "\n",
              "    .colab-df-convert:hover {\n",
              "      background-color: #E2EBFA;\n",
              "      box-shadow: 0px 1px 2px rgba(60, 64, 67, 0.3), 0px 1px 3px 1px rgba(60, 64, 67, 0.15);\n",
              "      fill: #174EA6;\n",
              "    }\n",
              "\n",
              "    [theme=dark] .colab-df-convert {\n",
              "      background-color: #3B4455;\n",
              "      fill: #D2E3FC;\n",
              "    }\n",
              "\n",
              "    [theme=dark] .colab-df-convert:hover {\n",
              "      background-color: #434B5C;\n",
              "      box-shadow: 0px 1px 3px 1px rgba(0, 0, 0, 0.15);\n",
              "      filter: drop-shadow(0px 1px 2px rgba(0, 0, 0, 0.3));\n",
              "      fill: #FFFFFF;\n",
              "    }\n",
              "  </style>\n",
              "\n",
              "      <script>\n",
              "        const buttonEl =\n",
              "          document.querySelector('#df-0000a6bb-78c9-4fa2-a09f-425ac13842b3 button.colab-df-convert');\n",
              "        buttonEl.style.display =\n",
              "          google.colab.kernel.accessAllowed ? 'block' : 'none';\n",
              "\n",
              "        async function convertToInteractive(key) {\n",
              "          const element = document.querySelector('#df-0000a6bb-78c9-4fa2-a09f-425ac13842b3');\n",
              "          const dataTable =\n",
              "            await google.colab.kernel.invokeFunction('convertToInteractive',\n",
              "                                                     [key], {});\n",
              "          if (!dataTable) return;\n",
              "\n",
              "          const docLinkHtml = 'Like what you see? Visit the ' +\n",
              "            '<a target=\"_blank\" href=https://colab.research.google.com/notebooks/data_table.ipynb>data table notebook</a>'\n",
              "            + ' to learn more about interactive tables.';\n",
              "          element.innerHTML = '';\n",
              "          dataTable['output_type'] = 'display_data';\n",
              "          await google.colab.output.renderOutput(dataTable, element);\n",
              "          const docLink = document.createElement('div');\n",
              "          docLink.innerHTML = docLinkHtml;\n",
              "          element.appendChild(docLink);\n",
              "        }\n",
              "      </script>\n",
              "    </div>\n",
              "  </div>\n",
              "  "
            ]
          },
          "metadata": {},
          "execution_count": 85
        }
      ]
    },
    {
      "cell_type": "code",
      "source": [
        "df[categorical].describe()"
      ],
      "metadata": {
        "colab": {
          "base_uri": "https://localhost:8080/"
        },
        "id": "fMU27HSLfjTg",
        "outputId": "3416c87e-b81d-4dad-f23c-e3d3d294196a"
      },
      "execution_count": null,
      "outputs": [
        {
          "output_type": "execute_result",
          "data": {
            "text/plain": [
              "       PreferredLoginDevice PreferredPaymentMode Gender    PreferedOrderCat  \\\n",
              "count                  5630                 5630   5630                5630   \n",
              "unique                    3                    7      2                   6   \n",
              "top            Mobile Phone           Debit Card   Male  Laptop & Accessory   \n",
              "freq                   2765                 2314   3384                2050   \n",
              "\n",
              "       MaritalStatus  \n",
              "count           5630  \n",
              "unique             3  \n",
              "top          Married  \n",
              "freq            2986  "
            ],
            "text/html": [
              "\n",
              "  <div id=\"df-e0ccb51c-2e9f-4579-82ae-6f5239709b68\">\n",
              "    <div class=\"colab-df-container\">\n",
              "      <div>\n",
              "<style scoped>\n",
              "    .dataframe tbody tr th:only-of-type {\n",
              "        vertical-align: middle;\n",
              "    }\n",
              "\n",
              "    .dataframe tbody tr th {\n",
              "        vertical-align: top;\n",
              "    }\n",
              "\n",
              "    .dataframe thead th {\n",
              "        text-align: right;\n",
              "    }\n",
              "</style>\n",
              "<table border=\"1\" class=\"dataframe\">\n",
              "  <thead>\n",
              "    <tr style=\"text-align: right;\">\n",
              "      <th></th>\n",
              "      <th>PreferredLoginDevice</th>\n",
              "      <th>PreferredPaymentMode</th>\n",
              "      <th>Gender</th>\n",
              "      <th>PreferedOrderCat</th>\n",
              "      <th>MaritalStatus</th>\n",
              "    </tr>\n",
              "  </thead>\n",
              "  <tbody>\n",
              "    <tr>\n",
              "      <th>count</th>\n",
              "      <td>5630</td>\n",
              "      <td>5630</td>\n",
              "      <td>5630</td>\n",
              "      <td>5630</td>\n",
              "      <td>5630</td>\n",
              "    </tr>\n",
              "    <tr>\n",
              "      <th>unique</th>\n",
              "      <td>3</td>\n",
              "      <td>7</td>\n",
              "      <td>2</td>\n",
              "      <td>6</td>\n",
              "      <td>3</td>\n",
              "    </tr>\n",
              "    <tr>\n",
              "      <th>top</th>\n",
              "      <td>Mobile Phone</td>\n",
              "      <td>Debit Card</td>\n",
              "      <td>Male</td>\n",
              "      <td>Laptop &amp; Accessory</td>\n",
              "      <td>Married</td>\n",
              "    </tr>\n",
              "    <tr>\n",
              "      <th>freq</th>\n",
              "      <td>2765</td>\n",
              "      <td>2314</td>\n",
              "      <td>3384</td>\n",
              "      <td>2050</td>\n",
              "      <td>2986</td>\n",
              "    </tr>\n",
              "  </tbody>\n",
              "</table>\n",
              "</div>\n",
              "      <button class=\"colab-df-convert\" onclick=\"convertToInteractive('df-e0ccb51c-2e9f-4579-82ae-6f5239709b68')\"\n",
              "              title=\"Convert this dataframe to an interactive table.\"\n",
              "              style=\"display:none;\">\n",
              "        \n",
              "  <svg xmlns=\"http://www.w3.org/2000/svg\" height=\"24px\"viewBox=\"0 0 24 24\"\n",
              "       width=\"24px\">\n",
              "    <path d=\"M0 0h24v24H0V0z\" fill=\"none\"/>\n",
              "    <path d=\"M18.56 5.44l.94 2.06.94-2.06 2.06-.94-2.06-.94-.94-2.06-.94 2.06-2.06.94zm-11 1L8.5 8.5l.94-2.06 2.06-.94-2.06-.94L8.5 2.5l-.94 2.06-2.06.94zm10 10l.94 2.06.94-2.06 2.06-.94-2.06-.94-.94-2.06-.94 2.06-2.06.94z\"/><path d=\"M17.41 7.96l-1.37-1.37c-.4-.4-.92-.59-1.43-.59-.52 0-1.04.2-1.43.59L10.3 9.45l-7.72 7.72c-.78.78-.78 2.05 0 2.83L4 21.41c.39.39.9.59 1.41.59.51 0 1.02-.2 1.41-.59l7.78-7.78 2.81-2.81c.8-.78.8-2.07 0-2.86zM5.41 20L4 18.59l7.72-7.72 1.47 1.35L5.41 20z\"/>\n",
              "  </svg>\n",
              "      </button>\n",
              "      \n",
              "  <style>\n",
              "    .colab-df-container {\n",
              "      display:flex;\n",
              "      flex-wrap:wrap;\n",
              "      gap: 12px;\n",
              "    }\n",
              "\n",
              "    .colab-df-convert {\n",
              "      background-color: #E8F0FE;\n",
              "      border: none;\n",
              "      border-radius: 50%;\n",
              "      cursor: pointer;\n",
              "      display: none;\n",
              "      fill: #1967D2;\n",
              "      height: 32px;\n",
              "      padding: 0 0 0 0;\n",
              "      width: 32px;\n",
              "    }\n",
              "\n",
              "    .colab-df-convert:hover {\n",
              "      background-color: #E2EBFA;\n",
              "      box-shadow: 0px 1px 2px rgba(60, 64, 67, 0.3), 0px 1px 3px 1px rgba(60, 64, 67, 0.15);\n",
              "      fill: #174EA6;\n",
              "    }\n",
              "\n",
              "    [theme=dark] .colab-df-convert {\n",
              "      background-color: #3B4455;\n",
              "      fill: #D2E3FC;\n",
              "    }\n",
              "\n",
              "    [theme=dark] .colab-df-convert:hover {\n",
              "      background-color: #434B5C;\n",
              "      box-shadow: 0px 1px 3px 1px rgba(0, 0, 0, 0.15);\n",
              "      filter: drop-shadow(0px 1px 2px rgba(0, 0, 0, 0.3));\n",
              "      fill: #FFFFFF;\n",
              "    }\n",
              "  </style>\n",
              "\n",
              "      <script>\n",
              "        const buttonEl =\n",
              "          document.querySelector('#df-e0ccb51c-2e9f-4579-82ae-6f5239709b68 button.colab-df-convert');\n",
              "        buttonEl.style.display =\n",
              "          google.colab.kernel.accessAllowed ? 'block' : 'none';\n",
              "\n",
              "        async function convertToInteractive(key) {\n",
              "          const element = document.querySelector('#df-e0ccb51c-2e9f-4579-82ae-6f5239709b68');\n",
              "          const dataTable =\n",
              "            await google.colab.kernel.invokeFunction('convertToInteractive',\n",
              "                                                     [key], {});\n",
              "          if (!dataTable) return;\n",
              "\n",
              "          const docLinkHtml = 'Like what you see? Visit the ' +\n",
              "            '<a target=\"_blank\" href=https://colab.research.google.com/notebooks/data_table.ipynb>data table notebook</a>'\n",
              "            + ' to learn more about interactive tables.';\n",
              "          element.innerHTML = '';\n",
              "          dataTable['output_type'] = 'display_data';\n",
              "          await google.colab.output.renderOutput(dataTable, element);\n",
              "          const docLink = document.createElement('div');\n",
              "          docLink.innerHTML = docLinkHtml;\n",
              "          element.appendChild(docLink);\n",
              "        }\n",
              "      </script>\n",
              "    </div>\n",
              "  </div>\n",
              "  "
            ]
          },
          "metadata": {},
          "execution_count": 86
        }
      ]
    },
    {
      "cell_type": "markdown",
      "source": [
        "##Analisis Masing-Masing Variabel"
      ],
      "metadata": {
        "id": "6NK_FeHHh7iS"
      }
    },
    {
      "cell_type": "markdown",
      "source": [
        "Akan dilakukan analisis univariate variabel numerikal meliputi: \"Tenure\", \"CityTier\", \"WarehouseToHome\", \"HourSpendOnApp\", \"NumberOfDeviceRegistered\", \"SatisfactionScore\", \"NumberOfAddress\", \"Complain\", \"OrderAmountHikeFromlastYear\", \"CouponUsed\", \"OrderCount\", \"DaySinceLastOrder\", dan \"CashbackAmount\".\n",
        "\n",
        "Variabel yang tidak diikutkan adalah \"Churn\" dan \"Complain\" karena bernilai 1 atau 0 (ya atau tidak), jika ditampilkan dalam bentuk boxplot menjadi terfokus di kanan ataupun di kiri. Selain itu, variabel CustomerID juga tidak ditampilkan karena hanyalah nomor unik di tiap barisnya."
      ],
      "metadata": {
        "id": "1HrQm5WMiTAU"
      }
    },
    {
      "cell_type": "code",
      "source": [
        "plt.figure(figsize = (20,15))\n",
        "\n",
        "plt.subplot(3,4,1)\n",
        "sns.boxplot(x=df['Tenure'])\n",
        "\n",
        "plt.subplot(3,4,2)\n",
        "sns.boxplot(x=df['CityTier'])\n",
        "\n",
        "plt.subplot(3,4,3)\n",
        "sns.boxplot(x=df['WarehouseToHome'])\n",
        "\n",
        "plt.subplot(3,4,4)\n",
        "sns.boxplot(x=df['HourSpendOnApp'])\n",
        "\n",
        "plt.subplot(3,4,5)\n",
        "sns.boxplot(x=df['NumberOfDeviceRegistered'])\n",
        "\n",
        "plt.subplot(3,4,6)\n",
        "sns.boxplot(x=df['SatisfactionScore'])\n",
        "\n",
        "plt.subplot(3,4,7)\n",
        "sns.boxplot(x=df['NumberOfAddress'])\n",
        "\n",
        "plt.subplot(3,4,8)\n",
        "sns.boxplot(x=df['OrderAmountHikeFromlastYear'])\n",
        "\n",
        "plt.subplot(3,4,9)\n",
        "sns.boxplot(x=df['CouponUsed'])\n",
        "\n",
        "plt.subplot(3,4,10)\n",
        "sns.boxplot(x=df['OrderCount'])\n",
        "\n",
        "plt.subplot(3,4,11)\n",
        "sns.boxplot(x=df['DaySinceLastOrder'])\n",
        "\n",
        "plt.subplot(3,4,12)\n",
        "sns.boxplot(x=df['CashbackAmount'])"
      ],
      "metadata": {
        "colab": {
          "base_uri": "https://localhost:8080/"
        },
        "id": "VBInL79RiFs_",
        "outputId": "6f4218d1-d70a-47d7-8758-04a1ec526fd1"
      },
      "execution_count": null,
      "outputs": [
        {
          "output_type": "execute_result",
          "data": {
            "text/plain": [
              "<matplotlib.axes._subplots.AxesSubplot at 0x7f15a5629790>"
            ]
          },
          "metadata": {},
          "execution_count": 87
        },
        {
          "output_type": "display_data",
          "data": {
            "text/plain": [
              "<Figure size 1440x1080 with 12 Axes>"
            ],
            "image/png": "[encoded data removed]"
          },
          "metadata": {
            "needs_background": "light"
          }
        }
      ]
    },
    {
      "cell_type": "code",
      "source": [
        "plt.figure(figsize = (20,15))\n",
        "\n",
        "plt.subplot(3,4,1)\n",
        "sns.distplot(x=df['Tenure'])\n",
        "\n",
        "plt.subplot(3,4,2)\n",
        "sns.distplot(x=df['CityTier'])\n",
        "\n",
        "plt.subplot(3,4,3)\n",
        "sns.distplot(x=df['WarehouseToHome'])\n",
        "\n",
        "plt.subplot(3,4,4)\n",
        "sns.distplot(x=df['HourSpendOnApp'])\n",
        "\n",
        "plt.subplot(3,4,5)\n",
        "sns.distplot(x=df['NumberOfDeviceRegistered'])\n",
        "\n",
        "plt.subplot(3,4,6)\n",
        "sns.distplot(x=df['SatisfactionScore'])\n",
        "\n",
        "plt.subplot(3,4,7)\n",
        "sns.distplot(x=df['NumberOfAddress'])\n",
        "\n",
        "plt.subplot(3,4,8)\n",
        "sns.distplot(x=df['OrderAmountHikeFromlastYear'])\n",
        "\n",
        "plt.subplot(3,4,9)\n",
        "sns.distplot(x=df['CouponUsed'])\n",
        "\n",
        "plt.subplot(3,4,10)\n",
        "sns.distplot(x=df['OrderCount'])\n",
        "\n",
        "plt.subplot(3,4,11)\n",
        "sns.distplot(x=df['DaySinceLastOrder'])\n",
        "\n",
        "plt.subplot(3,4,12)\n",
        "sns.distplot(x=df['CashbackAmount'])"
      ],
      "metadata": {
        "colab": {
          "base_uri": "https://localhost:8080/"
        },
        "id": "cN32g65FkdVi",
        "outputId": "f9071bc4-890a-4e15-e07e-8a109d700a09"
      },
      "execution_count": null,
      "outputs": [
        {
          "output_type": "execute_result",
          "data": {
            "text/plain": [
              "<matplotlib.axes._subplots.AxesSubplot at 0x7f15a4cab0d0>"
            ]
          },
          "metadata": {},
          "execution_count": 88
        },
        {
          "output_type": "display_data",
          "data": {
            "text/plain": [
              "<Figure size 1440x1080 with 12 Axes>"
            ],
            "image/png": "[encoded data removed]"
          },
          "metadata": {
            "needs_background": "light"
          }
        }
      ]
    },
    {
      "cell_type": "markdown",
      "source": [
        "Dari boxplot dan distplot, dapat terlihat nilai-nilai outlier dan pola distribusi data masing-masing variabel.\n",
        "\n",
        "Untuk variabel **\"Tenure\", \"WarehouseToHome\", \"NumberOfAddress\", \"CouponUsed\", \"OrderCount\", dan \"DaySinceLastOrder\"** tampak memiliki data outlier atau data yang ekstrem. Ini dapat dibersihkan dengan menghapus data-data tersebut.\n",
        "\n",
        "Untuk pola distribusi, kebanyakan memiliki pola skewed atau miring ke kanan maupun ke kiri."
      ],
      "metadata": {
        "id": "cT0cb60G6Lhv"
      }
    },
    {
      "cell_type": "markdown",
      "source": [
        "##Analisis Hubungan dengan Variabel Target"
      ],
      "metadata": {
        "id": "h_VvNCJaV6HF"
      }
    },
    {
      "cell_type": "markdown",
      "source": [
        "Mula-mula akan ditunjukkan hubungan antara seluruh data numerikal dengan variabel target \"Churn\" untuk dilihat mana yang memiliki perbedaan tertinggi."
      ],
      "metadata": {
        "id": "JwLqSFtgaWBc"
      }
    },
    {
      "cell_type": "code",
      "source": [
        "plt.figure(figsize = (20,15))\n",
        "\n",
        "plt.subplot(4,4,1)\n",
        "sns.barplot(x=df['Churn'], y=df['Tenure'])\n",
        "\n",
        "plt.subplot(4,4,2)\n",
        "sns.barplot(x=df['Churn'], y=df['CityTier'])\n",
        "\n",
        "plt.subplot(4,4,3)\n",
        "sns.barplot(x=df['Churn'], y=df['WarehouseToHome'])\n",
        "\n",
        "plt.subplot(4,4,4)\n",
        "sns.barplot(x=df['Churn'], y=df['HourSpendOnApp'])\n",
        "\n",
        "plt.subplot(4,4,5)\n",
        "sns.barplot(x=df['Churn'], y=df['NumberOfDeviceRegistered'])\n",
        "\n",
        "plt.subplot(4,4,6)\n",
        "sns.barplot(x=df['Churn'], y=df['SatisfactionScore'])\n",
        "\n",
        "plt.subplot(4,4,7)\n",
        "sns.barplot(x=df['Churn'], y=df['NumberOfAddress'])\n",
        "\n",
        "plt.subplot(4,4,8)\n",
        "sns.barplot(x=df['Churn'], y=df['Complain'])\n",
        "\n",
        "plt.subplot(4,4,9)\n",
        "sns.barplot(x=df['Churn'], y=df['OrderAmountHikeFromlastYear'])\n",
        "\n",
        "plt.subplot(4,4,10)\n",
        "sns.barplot(x=df['Churn'], y=df['CouponUsed'])\n",
        "\n",
        "plt.subplot(4,4,11)\n",
        "sns.barplot(x=df['Churn'], y=df['OrderCount'])\n",
        "\n",
        "plt.subplot(4,4,12)\n",
        "sns.barplot(x=df['Churn'], y=df['DaySinceLastOrder'])\n",
        "\n",
        "plt.subplot(4,4,13)\n",
        "sns.barplot(x=df['Churn'], y=df['CashbackAmount'])"
      ],
      "metadata": {
        "id": "ScahPTbonjEl",
        "colab": {
          "base_uri": "https://localhost:8080/"
        },
        "outputId": "ff99e5a6-2126-4f5b-8311-e2d54746b877"
      },
      "execution_count": null,
      "outputs": [
        {
          "output_type": "execute_result",
          "data": {
            "text/plain": [
              "<matplotlib.axes._subplots.AxesSubplot at 0x7f15a479a790>"
            ]
          },
          "metadata": {},
          "execution_count": 89
        },
        {
          "output_type": "display_data",
          "data": {
            "text/plain": [
              "<Figure size 1440x1080 with 13 Axes>"
            ],
            "image/png": "[encoded data removed]"
          },
          "metadata": {
            "needs_background": "light"
          }
        }
      ]
    },
    {
      "cell_type": "markdown",
      "source": [
        "> Dari kumpulan grafik di atas, dapat dilihat bahwa yang terlihat paling besar perbedaan antara 0 dan 1 pada variabel target \"Churn\" adalah **Tenure, Complain, dan DaySinceLastOrder**."
      ],
      "metadata": {
        "id": "ngH5TgMJdjdg"
      }
    },
    {
      "cell_type": "markdown",
      "source": [
        "Beberapa hal yang mungkin bisa didapat dari grafik di atas adalah:\n",
        "\n",
        "**Tenure**: Dalam hal ini, wajar jika customer yang tetap memakai platform ini memiliki rerata masa pemakaian cukup lama (kurang lebih 11 bulan) sedangkan customer yang tidak lagi memakai platform ini memiliki rerata masa pemakaian yang lebih pendek (kurang lebih 3 bulan).\n",
        "\n",
        "**Complain**: Sekitar 50% orang yang memilih tidak lagi menggunakan platform kita memberikan komplain dan sekitar 22% orang yang masih menggunakan platform kita juga mengirimkan komplain. Keduanya memiliki perbedaan yang cukup jauh. Dengan data ini juga dapat dilakukan research lebih lanjut mengenai komplain customer untuk mengetahui alasan customer meninggalkan platform ini.\n",
        "\n",
        "**DaySinceLastOrder**: Rata-rata customer yang memilih untuk meninggalkan platform ini terakhir memesan pada 3 hari yang lalu sedangkan rata-rata customer yang memilih untuk tetap menggunakan platform ini terakhir memesan sekitar 5 hari yang lalu. Mungkin terdapat lonjakan pengguna tempo hari, tetapi customer-customer tersebut tidak melanjutkan penggunaan platform ini lagi.\n",
        "\n",
        "---\n",
        "\n"
      ],
      "metadata": {
        "id": "QTJ85dJSkfyt"
      }
    },
    {
      "cell_type": "markdown",
      "source": [
        "Langkah selanjutnya akan dicari persentase customer yang pindah dengan rumus\n",
        "$\\frac{CustomerPindah}{Total Data Customer}$ untuk mengetahui persentase normal perpindahan customer"
      ],
      "metadata": {
        "id": "71xzLHTSu2jV"
      }
    },
    {
      "cell_type": "code",
      "source": [
        "df['Churn'].value_counts()"
      ],
      "metadata": {
        "colab": {
          "base_uri": "https://localhost:8080/"
        },
        "id": "QbnAzOBgwdru",
        "outputId": "d964d85f-64a6-477d-d8a4-63717e20cee6"
      },
      "execution_count": null,
      "outputs": [
        {
          "output_type": "execute_result",
          "data": {
            "text/plain": [
              "0    4682\n",
              "1     948\n",
              "Name: Churn, dtype: int64"
            ]
          },
          "metadata": {},
          "execution_count": 90
        }
      ]
    },
    {
      "cell_type": "markdown",
      "source": [
        "Maka persentase customer yang pindah sebesar $\\frac {948}{4682+948} \\times 100 = 16.83$%"
      ],
      "metadata": {
        "id": "VzwxJwuIwjyO"
      }
    },
    {
      "cell_type": "markdown",
      "source": [
        "Selanjutnya akan ditunjukkan hubungan antara data kategorikal dengan variabel target \"Churn\". Namun sebelum itu akan dilakukan beberapa penyesuaian terhadap variabel kategorikal karena terdapat beberapa variabel yang saling tumpang tindih, yaitu:\n",
        "\n",
        "\n",
        "*   CC dan Credit Card di variabel \"PreferredPaymentMethod\" merupakan metode yang sama\n",
        "*   Cash On Delivery dan COD di variabel \"PreferredPaymentMethod\" merupakan metode yang sama\n",
        "*   Mobile Phone dan Phone di variabel \"PreferredLoginDevice\" dapat dianggap sama menjadi  Mobile Phone\n",
        "*   Mobile dan Mobile Phone di variabel \"PreferredOrderCat\" dapat dianggap sama menjadi Mobile Phone\n",
        "\n"
      ],
      "metadata": {
        "id": "3XfTz9waa8-3"
      }
    },
    {
      "cell_type": "code",
      "source": [
        "df[\"PreferredPaymentMode\"][df[\"PreferredPaymentMode\"] == \"Cash on Delivery\"] = \"COD\"\n",
        "df[\"PreferredPaymentMode\"][df[\"PreferredPaymentMode\"] == \"Credit Card\"] = \"CC\""
      ],
      "metadata": {
        "id": "pNBlvSvpy-0C"
      },
      "execution_count": null,
      "outputs": []
    },
    {
      "cell_type": "code",
      "source": [
        "df[\"PreferredLoginDevice\"][df[\"PreferredLoginDevice\"] == \"Phone\"] = \"Mobile Phone\""
      ],
      "metadata": {
        "id": "moY4Dwvozpku"
      },
      "execution_count": null,
      "outputs": []
    },
    {
      "cell_type": "code",
      "source": [
        "df[\"PreferedOrderCat\"][df[\"PreferedOrderCat\"] == \"Mobile\"] = \"Mobile Phone\""
      ],
      "metadata": {
        "id": "tAEijNSd5AzX"
      },
      "execution_count": null,
      "outputs": []
    },
    {
      "cell_type": "markdown",
      "source": [
        "Setelah dilakukan penyesuaian, maka akan ditunjukkan grafik hubungan tiap variabel dengan variabel target \"Churn\""
      ],
      "metadata": {
        "id": "1eP1_FTw5Wkn"
      }
    },
    {
      "cell_type": "code",
      "source": [
        "plt.figure(figsize = (20,15))\n",
        "\n",
        "plt.subplot(2,3,1)\n",
        "sns.barplot(y=df['Churn'], x=df['PreferredLoginDevice'])\n",
        "\n",
        "plt.subplot(2,3,2)\n",
        "sns.barplot(y=df['Churn'], x=df['PreferredPaymentMode'])\n",
        "\n",
        "plt.subplot(2,3,3)\n",
        "sns.barplot(y=df['Churn'], x=df['Gender'])\n",
        "\n",
        "plt.subplot(2,3,4)\n",
        "sns.barplot(y=df['Churn'], x=df['PreferedOrderCat'])\n",
        "\n",
        "plt.subplot(2,3,5)\n",
        "sns.barplot(y=df['Churn'], x=df['MaritalStatus'])"
      ],
      "metadata": {
        "colab": {
          "base_uri": "https://localhost:8080/"
        },
        "id": "k0G8VU0abO9f",
        "outputId": "c673f646-e7b6-4747-eef5-3fe6f2a60764"
      },
      "execution_count": null,
      "outputs": [
        {
          "output_type": "execute_result",
          "data": {
            "text/plain": [
              "<matplotlib.axes._subplots.AxesSubplot at 0x7f15a45b09a0>"
            ]
          },
          "metadata": {},
          "execution_count": 94
        },
        {
          "output_type": "display_data",
          "data": {
            "text/plain": [
              "<Figure size 1440x1080 with 5 Axes>"
            ],
            "image/png": "[encoded data removed]"
          },
          "metadata": {
            "needs_background": "light"
          }
        }
      ]
    },
    {
      "cell_type": "markdown",
      "source": [
        "Beberapa insight yang bisa diambil dari kumpulan grafik di atas antara lain:\n",
        "\n",
        "**PreferedLoginDevice**: Tidak ada perbedaan yang berarti antara menggunakan Mobile Phone dan Computer, keduanya memiliki persentase sekitar persentase churn awal.\n",
        "\n",
        "**PreferredPaymentMode**: Untuk metode Debit Card, UPI, dan CC masih normal tetapi perlu diperhatikan metode COD dan E wallet memiliki persentase yang cukup tinggi, mungkin bisa dianalisis dan diberi tindakan lebih lanjut mengenai kedua metode tersebut.\n",
        "\n",
        "**Gender**: Tidak ada perbedaan berarti antara laki-laki dan perempuan.\n",
        "\n",
        "**PreferedOrderCat**: Terdapat perbedaan persentase yang cukup tinggi di kategori Mobile Phone, mungkin kategori tersebut masih sering mengalami masalah dalam pembeliannya di platform ini, misalnya masalah klaim garansi, barang tiruan, dan sebagainya yang menyebabkan customer pindah dari platform ini.\n",
        "\n",
        "**MaritalStatus**: Pada status Single terdapat persentase perpindahan yang cukup tinggi, mungkin dapat diberi promo atau cashback yang jomblo-friendly untuk menarik lagi minat customer."
      ],
      "metadata": {
        "id": "0YpE89H150Uy"
      }
    },
    {
      "cell_type": "markdown",
      "source": [
        "##Analisis Korelasi Antar Variabel"
      ],
      "metadata": {
        "id": "X0PuKeiE8sTh"
      }
    },
    {
      "cell_type": "markdown",
      "source": [
        "Dalam hal ini akan digunakan heatmap untuk menunjukkan hubungan antara semua variabel dalam dataaset."
      ],
      "metadata": {
        "id": "rADXM8xJ9Aqi"
      }
    },
    {
      "cell_type": "code",
      "source": [
        "f, ax = plt.subplots(figsize=(13, 11))\n",
        "mask = np.zeros_like(df.corr())\n",
        "mask[np.triu_indices_from(mask)] = True\n",
        "sns.heatmap(df.corr(),cmap=\"Blues\",mask=mask, square=True,linewidths=1,annot=True)"
      ],
      "metadata": {
        "colab": {
          "base_uri": "https://localhost:8080/"
        },
        "id": "Re9i1q8C8yWi",
        "outputId": "795fa143-5f57-4095-cabf-52ede0dbd082"
      },
      "execution_count": null,
      "outputs": [
        {
          "output_type": "execute_result",
          "data": {
            "text/plain": [
              "<matplotlib.axes._subplots.AxesSubplot at 0x7f15a463b250>"
            ]
          },
          "metadata": {},
          "execution_count": 95
        },
        {
          "output_type": "display_data",
          "data": {
            "text/plain": [
              "<Figure size 936x792 with 2 Axes>"
            ],
            "image/png": "[encoded data removed]"
          },
          "metadata": {
            "needs_background": "light"
          }
        }
      ]
    },
    {
      "cell_type": "markdown",
      "source": [
        "Dari heatmap di atas dapat diketahui bahwa variabel yang cukup signifikan berpengaruh pada variabel target \"Churn\" adalah **Tenure**, **Complain**, dan **DaySinceLastOrder** yang berbeda tipis dengan **CashbackAmount**. Hal ini mengonfirmasi dugaan sebelumnya bahwa variabel-variabel tersebut memang berpengaruh terhadap variabel target."
      ],
      "metadata": {
        "id": "_6U-Pl5K9kYk"
      }
    },
    {
      "cell_type": "markdown",
      "source": [
        "##Kesimpulan"
      ],
      "metadata": {
        "id": "uT8OJMsm81qc"
      }
    },
    {
      "cell_type": "markdown",
      "source": [
        "Dataset yang diterima sejak awal sudah cukup baik ditunjukkan dengan lengkapnya data meskipun ada beberapa kategori yang perlu dilakukan penyesuaian.\n",
        "\n",
        "Beberapa poin yang dapat disimpulkan antara lain:\n",
        "*   Variabel **Tenure** berhubungan erat dengan variabel target dimana semakin lama masa penggunaan orang tersebut dengan platform ini, semakin kecil pula ia akan berpindah dari platform ini. Hal ini bisa didukung dengan tetap menjaga fitur dan promo bagi pengguna lama agar tetap merasa nyaman di platform ini.\n",
        "*   Variabel **Complain** berhubungan cukup erat dengan variabel target dimana orang-orang yang berpindah dari platform ini pasti pernah melakukan komplain terhadap platform ini. Mungkin bagian pelayanan dapat cepat tanggap dalam mengatasi masukan dan komplain yang ada agar mengurangi potensi perpindahan customer.\n",
        "*   Variabel **DaySinceLastOrder** dan **CashbackAmount** memiliki sedikit hubungan dengan variabel target, mungkin ini bisa dicoba digunakan dalam trial dan error pembuatan model Machine Learning nantinya.\n",
        "*   Terdapat beberapa catatan di kategori pembayaran **\"COD\" dan \"E-Wallet\"**, kategori pemesanan barang jenis **\"Mobile Phone\"**, dan pemesanan bagi customer yang **\"Single\"**. Kategori-kategori tersebut memiliki persentase Churn / Perpindahan Customer yang tinggi. Mungkin bisa dilakukan penindaklanjutan atau analisis masalah lebih lanjut di kategori-kategori tersebut."
      ],
      "metadata": {
        "id": "JmN87Q7O85FF"
      }
    },
    {
      "cell_type": "markdown",
      "source": [
        "#Machine Learning Preparation (Task 4)"
      ],
      "metadata": {
        "id": "LhowmmyTgWqd"
      }
    },
    {
      "cell_type": "markdown",
      "source": [
        "##Mengatasi Missing Value"
      ],
      "metadata": {
        "id": "QssQGnR4gcHh"
      }
    },
    {
      "cell_type": "markdown",
      "source": [
        "Untuk mengatasi missing value, pertama-tama kita cek dulu ada tidaknya missing value dalam data."
      ],
      "metadata": {
        "id": "O5FetQn6OgLE"
      }
    },
    {
      "cell_type": "code",
      "source": [
        "df.isna().sum()"
      ],
      "metadata": {
        "colab": {
          "base_uri": "https://localhost:8080/"
        },
        "id": "xXCXjEKazHDN",
        "outputId": "e28c76a1-4d83-4322-cd3b-33ffa9bd1ce4"
      },
      "execution_count": null,
      "outputs": [
        {
          "output_type": "execute_result",
          "data": {
            "text/plain": [
              "CustomerID                       0\n",
              "Churn                            0\n",
              "Tenure                         264\n",
              "PreferredLoginDevice             0\n",
              "CityTier                         0\n",
              "WarehouseToHome                251\n",
              "PreferredPaymentMode             0\n",
              "Gender                           0\n",
              "HourSpendOnApp                 255\n",
              "NumberOfDeviceRegistered         0\n",
              "PreferedOrderCat                 0\n",
              "SatisfactionScore                0\n",
              "MaritalStatus                    0\n",
              "NumberOfAddress                  0\n",
              "Complain                         0\n",
              "OrderAmountHikeFromlastYear    265\n",
              "CouponUsed                     256\n",
              "OrderCount                     258\n",
              "DaySinceLastOrder              307\n",
              "CashbackAmount                   0\n",
              "dtype: int64"
            ]
          },
          "metadata": {},
          "execution_count": 96
        }
      ]
    },
    {
      "cell_type": "code",
      "source": [
        "df.shape"
      ],
      "metadata": {
        "colab": {
          "base_uri": "https://localhost:8080/"
        },
        "id": "fqfBI21biO4h",
        "outputId": "04144b8a-000b-4f36-9cac-691558d2782a"
      },
      "execution_count": null,
      "outputs": [
        {
          "output_type": "execute_result",
          "data": {
            "text/plain": [
              "(5630, 20)"
            ]
          },
          "metadata": {},
          "execution_count": 97
        }
      ]
    },
    {
      "cell_type": "code",
      "source": [
        "df1 = df\n",
        "df1.dropna(axis=0, how='any', subset=None, inplace=True)"
      ],
      "metadata": {
        "id": "MByoqZnfjTkI"
      },
      "execution_count": null,
      "outputs": []
    },
    {
      "cell_type": "code",
      "source": [
        "df1.shape"
      ],
      "metadata": {
        "colab": {
          "base_uri": "https://localhost:8080/"
        },
        "id": "WOUOI7GyygfA",
        "outputId": "d6aa749d-fca8-4aaa-f78c-1cec40f908b4"
      },
      "execution_count": null,
      "outputs": [
        {
          "output_type": "execute_result",
          "data": {
            "text/plain": [
              "(3774, 20)"
            ]
          },
          "metadata": {},
          "execution_count": 99
        }
      ]
    },
    {
      "cell_type": "markdown",
      "source": [
        "##Mengatasi Data Duplikasi"
      ],
      "metadata": {
        "id": "Z1V4MwxNxuwd"
      }
    },
    {
      "cell_type": "code",
      "source": [
        "df1.duplicated().sum()"
      ],
      "metadata": {
        "colab": {
          "base_uri": "https://localhost:8080/"
        },
        "id": "LGTXKebOxxZh",
        "outputId": "616519f4-f6db-4f40-a096-58321e19f63e"
      },
      "execution_count": null,
      "outputs": [
        {
          "output_type": "execute_result",
          "data": {
            "text/plain": [
              "0"
            ]
          },
          "metadata": {},
          "execution_count": 100
        }
      ]
    },
    {
      "cell_type": "markdown",
      "source": [
        "Data duplikasi sudah 0"
      ],
      "metadata": {
        "id": "iQXN23-A3c6l"
      }
    },
    {
      "cell_type": "markdown",
      "source": [
        "##Mengatasi Data Outlier"
      ],
      "metadata": {
        "id": "eNzauw4lkHoZ"
      }
    },
    {
      "cell_type": "markdown",
      "source": [
        "Sebelumnya, mari kita lihat terlebih dahulu boxplot dari masing-masing variabel numerikal"
      ],
      "metadata": {
        "id": "_hgVlz3iw-P8"
      }
    },
    {
      "cell_type": "code",
      "source": [
        "plt.figure(figsize = (20,15))\n",
        "\n",
        "plt.subplot(3,4,1)\n",
        "sns.boxplot(x=df1['Tenure'])\n",
        "\n",
        "plt.subplot(3,4,2)\n",
        "sns.boxplot(x=df1['CityTier'])\n",
        "\n",
        "plt.subplot(3,4,3)\n",
        "sns.boxplot(x=df1['WarehouseToHome'])\n",
        "\n",
        "plt.subplot(3,4,4)\n",
        "sns.boxplot(x=df1['HourSpendOnApp'])\n",
        "\n",
        "plt.subplot(3,4,5)\n",
        "sns.boxplot(x=df1['NumberOfDeviceRegistered'])\n",
        "\n",
        "plt.subplot(3,4,6)\n",
        "sns.boxplot(x=df1['SatisfactionScore'])\n",
        "\n",
        "plt.subplot(3,4,7)\n",
        "sns.boxplot(x=df1['NumberOfAddress'])\n",
        "\n",
        "plt.subplot(3,4,8)\n",
        "sns.boxplot(x=df1['OrderAmountHikeFromlastYear'])\n",
        "\n",
        "plt.subplot(3,4,9)\n",
        "sns.boxplot(x=df1['CouponUsed'])\n",
        "\n",
        "plt.subplot(3,4,10)\n",
        "sns.boxplot(x=df1['OrderCount'])\n",
        "\n",
        "plt.subplot(3,4,11)\n",
        "sns.boxplot(x=df1['DaySinceLastOrder'])\n",
        "\n",
        "plt.subplot(3,4,12)\n",
        "sns.boxplot(x=df1['CashbackAmount'])"
      ],
      "metadata": {
        "colab": {
          "base_uri": "https://localhost:8080/",
          "height": 833
        },
        "id": "y2Y3wd3akOz6",
        "outputId": "558c2798-6efd-44b4-f859-1d00c6e960b4"
      },
      "execution_count": null,
      "outputs": [
        {
          "output_type": "execute_result",
          "data": {
            "text/plain": [
              "<matplotlib.axes._subplots.AxesSubplot at 0x7f15a40d5c40>"
            ]
          },
          "metadata": {},
          "execution_count": 101
        },
        {
          "output_type": "display_data",
          "data": {
            "text/plain": [
              "<Figure size 1440x1080 with 12 Axes>"
            ],
            "image/png": "[encoded data removed]"
          },
          "metadata": {
            "needs_background": "light"
          }
        }
      ]
    },
    {
      "cell_type": "markdown",
      "source": [
        "Dalam mengatasi data outlier, akan dihapus data outlier ekstrem di variabel **Tenure, WarehouseToHome, dan NumberOfAddress**"
      ],
      "metadata": {
        "id": "jnMdTguKw_-D"
      }
    },
    {
      "cell_type": "code",
      "source": [
        "print(f'Jumlah baris sebelum memfilter outlier: {len(df1)}')\n",
        "\n",
        "filtered_entries = np.array([True] * len(df1))\n",
        "for col in ['Tenure']:\n",
        "    low_limit = 0\n",
        "    high_limit = 40\n",
        "\n",
        "    filtered_entries = ((df1[col] >= low_limit) & (df1[col] <= high_limit)) & filtered_entries\n",
        "\n",
        "df1 = df1[filtered_entries]\n",
        "\n",
        "print(f'Jumlah baris setelah memfilter outlier: {len(df1)}')"
      ],
      "metadata": {
        "colab": {
          "base_uri": "https://localhost:8080/"
        },
        "id": "CjYE_LokkEry",
        "outputId": "62b1021e-820d-4d8f-f3f9-9b7de7d43f04"
      },
      "execution_count": null,
      "outputs": [
        {
          "output_type": "stream",
          "name": "stdout",
          "text": [
            "Jumlah baris sebelum memfilter outlier: 3774\n",
            "Jumlah baris setelah memfilter outlier: 3772\n"
          ]
        }
      ]
    },
    {
      "cell_type": "code",
      "source": [
        "print(f'Jumlah baris sebelum memfilter outlier: {len(df1)}')\n",
        "\n",
        "filtered_entries = np.array([True] * len(df1))\n",
        "for col in ['WarehouseToHome']:\n",
        "    low_limit = 0\n",
        "    high_limit = 100\n",
        "\n",
        "    filtered_entries = ((df1[col] >= low_limit) & (df1[col] <= high_limit)) & filtered_entries\n",
        "\n",
        "df1 = df1[filtered_entries]\n",
        "\n",
        "print(f'Jumlah baris setelah memfilter outlier: {len(df1)}')"
      ],
      "metadata": {
        "colab": {
          "base_uri": "https://localhost:8080/"
        },
        "outputId": "7143ab6c-be55-430d-f401-25faffdc6aa8",
        "id": "fxs2IBWblkTE"
      },
      "execution_count": null,
      "outputs": [
        {
          "output_type": "stream",
          "name": "stdout",
          "text": [
            "Jumlah baris sebelum memfilter outlier: 3772\n",
            "Jumlah baris setelah memfilter outlier: 3770\n"
          ]
        }
      ]
    },
    {
      "cell_type": "code",
      "source": [
        "print(f'Jumlah baris sebelum memfilter outlier: {len(df1)}')\n",
        "\n",
        "filtered_entries = np.array([True] * len(df1))\n",
        "for col in ['NumberOfAddress']:\n",
        "    low_limit = 0\n",
        "    high_limit = 15\n",
        "\n",
        "    filtered_entries = ((df1[col] >= low_limit) & (df1[col] <= high_limit)) & filtered_entries\n",
        "\n",
        "df1 = df1[filtered_entries]\n",
        "\n",
        "print(f'Jumlah baris setelah memfilter outlier: {len(df1)}')"
      ],
      "metadata": {
        "colab": {
          "base_uri": "https://localhost:8080/"
        },
        "outputId": "cd468a91-2b57-42fc-98a3-c548ca3ef5aa",
        "id": "vHb19VJ9lulF"
      },
      "execution_count": null,
      "outputs": [
        {
          "output_type": "stream",
          "name": "stdout",
          "text": [
            "Jumlah baris sebelum memfilter outlier: 3770\n",
            "Jumlah baris setelah memfilter outlier: 3767\n"
          ]
        }
      ]
    },
    {
      "cell_type": "markdown",
      "source": [
        "##Normalisasi dan Standarisasi"
      ],
      "metadata": {
        "id": "OwA09TtMl9B5"
      }
    },
    {
      "cell_type": "markdown",
      "source": [
        "Satuan dalam variabel-variabel di dataset tidak perlu dinormalisasi ataupun distandarisasi"
      ],
      "metadata": {
        "id": "MbHM08znmKIE"
      }
    },
    {
      "cell_type": "code",
      "source": [
        "df1.describe()"
      ],
      "metadata": {
        "colab": {
          "base_uri": "https://localhost:8080/",
          "height": 364
        },
        "id": "x3qk2oywmc-R",
        "outputId": "db77a9cc-fe4e-4d03-b60c-b7ca5a91febe"
      },
      "execution_count": null,
      "outputs": [
        {
          "output_type": "execute_result",
          "data": {
            "text/plain": [
              "         CustomerID        Churn       Tenure     CityTier  WarehouseToHome  \\\n",
              "count   3767.000000  3767.000000  3767.000000  3767.000000      3767.000000   \n",
              "mean   53018.988585     0.167242     8.745952     1.707990        15.691266   \n",
              "std     1609.262423     0.373241     7.613888     0.936767         8.211619   \n",
              "min    50001.000000     0.000000     0.000000     1.000000         5.000000   \n",
              "25%    51660.000000     0.000000     1.000000     1.000000         9.000000   \n",
              "50%    53161.000000     0.000000     8.000000     1.000000        14.000000   \n",
              "75%    54398.000000     0.000000    13.000000     3.000000        21.000000   \n",
              "max    55630.000000     1.000000    31.000000     3.000000        36.000000   \n",
              "\n",
              "       HourSpendOnApp  NumberOfDeviceRegistered  SatisfactionScore  \\\n",
              "count     3767.000000               3767.000000        3767.000000   \n",
              "mean         2.980887                  3.755508           3.057340   \n",
              "std          0.722270                  1.024633           1.389936   \n",
              "min          0.000000                  1.000000           1.000000   \n",
              "25%          2.000000                  3.000000           2.000000   \n",
              "50%          3.000000                  4.000000           3.000000   \n",
              "75%          3.000000                  4.000000           4.000000   \n",
              "max          5.000000                  6.000000           5.000000   \n",
              "\n",
              "       NumberOfAddress     Complain  OrderAmountHikeFromlastYear   CouponUsed  \\\n",
              "count      3767.000000  3767.000000                  3767.000000  3767.000000   \n",
              "mean          4.204938     0.282453                    15.720998     1.719936   \n",
              "std           2.519377     0.450252                     3.625080     1.675915   \n",
              "min           1.000000     0.000000                    11.000000     0.000000   \n",
              "25%           2.000000     0.000000                    13.000000     1.000000   \n",
              "50%           3.000000     0.000000                    15.000000     1.000000   \n",
              "75%           6.000000     1.000000                    18.000000     2.000000   \n",
              "max          11.000000     1.000000                    26.000000    16.000000   \n",
              "\n",
              "        OrderCount  DaySinceLastOrder  CashbackAmount  \n",
              "count  3767.000000        3767.000000     3767.000000  \n",
              "mean      2.827183           4.527741      164.219793  \n",
              "std       2.469382           3.371291       24.103628  \n",
              "min       1.000000           0.000000        0.000000  \n",
              "25%       1.000000           2.000000      148.490000  \n",
              "50%       2.000000           3.000000      160.050000  \n",
              "75%       3.000000           7.000000      178.025000  \n",
              "max      16.000000          46.000000      324.990000  "
            ],
            "text/html": [
              "\n",
              "  <div id=\"df-2658b5a4-4856-40d7-acef-b817342550f7\">\n",
              "    <div class=\"colab-df-container\">\n",
              "      <div>\n",
              "<style scoped>\n",
              "    .dataframe tbody tr th:only-of-type {\n",
              "        vertical-align: middle;\n",
              "    }\n",
              "\n",
              "    .dataframe tbody tr th {\n",
              "        vertical-align: top;\n",
              "    }\n",
              "\n",
              "    .dataframe thead th {\n",
              "        text-align: right;\n",
              "    }\n",
              "</style>\n",
              "<table border=\"1\" class=\"dataframe\">\n",
              "  <thead>\n",
              "    <tr style=\"text-align: right;\">\n",
              "      <th></th>\n",
              "      <th>CustomerID</th>\n",
              "      <th>Churn</th>\n",
              "      <th>Tenure</th>\n",
              "      <th>CityTier</th>\n",
              "      <th>WarehouseToHome</th>\n",
              "      <th>HourSpendOnApp</th>\n",
              "      <th>NumberOfDeviceRegistered</th>\n",
              "      <th>SatisfactionScore</th>\n",
              "      <th>NumberOfAddress</th>\n",
              "      <th>Complain</th>\n",
              "      <th>OrderAmountHikeFromlastYear</th>\n",
              "      <th>CouponUsed</th>\n",
              "      <th>OrderCount</th>\n",
              "      <th>DaySinceLastOrder</th>\n",
              "      <th>CashbackAmount</th>\n",
              "    </tr>\n",
              "  </thead>\n",
              "  <tbody>\n",
              "    <tr>\n",
              "      <th>count</th>\n",
              "      <td>3767.000000</td>\n",
              "      <td>3767.000000</td>\n",
              "      <td>3767.000000</td>\n",
              "      <td>3767.000000</td>\n",
              "      <td>3767.000000</td>\n",
              "      <td>3767.000000</td>\n",
              "      <td>3767.000000</td>\n",
              "      <td>3767.000000</td>\n",
              "      <td>3767.000000</td>\n",
              "      <td>3767.000000</td>\n",
              "      <td>3767.000000</td>\n",
              "      <td>3767.000000</td>\n",
              "      <td>3767.000000</td>\n",
              "      <td>3767.000000</td>\n",
              "      <td>3767.000000</td>\n",
              "    </tr>\n",
              "    <tr>\n",
              "      <th>mean</th>\n",
              "      <td>53018.988585</td>\n",
              "      <td>0.167242</td>\n",
              "      <td>8.745952</td>\n",
              "      <td>1.707990</td>\n",
              "      <td>15.691266</td>\n",
              "      <td>2.980887</td>\n",
              "      <td>3.755508</td>\n",
              "      <td>3.057340</td>\n",
              "      <td>4.204938</td>\n",
              "      <td>0.282453</td>\n",
              "      <td>15.720998</td>\n",
              "      <td>1.719936</td>\n",
              "      <td>2.827183</td>\n",
              "      <td>4.527741</td>\n",
              "      <td>164.219793</td>\n",
              "    </tr>\n",
              "    <tr>\n",
              "      <th>std</th>\n",
              "      <td>1609.262423</td>\n",
              "      <td>0.373241</td>\n",
              "      <td>7.613888</td>\n",
              "      <td>0.936767</td>\n",
              "      <td>8.211619</td>\n",
              "      <td>0.722270</td>\n",
              "      <td>1.024633</td>\n",
              "      <td>1.389936</td>\n",
              "      <td>2.519377</td>\n",
              "      <td>0.450252</td>\n",
              "      <td>3.625080</td>\n",
              "      <td>1.675915</td>\n",
              "      <td>2.469382</td>\n",
              "      <td>3.371291</td>\n",
              "      <td>24.103628</td>\n",
              "    </tr>\n",
              "    <tr>\n",
              "      <th>min</th>\n",
              "      <td>50001.000000</td>\n",
              "      <td>0.000000</td>\n",
              "      <td>0.000000</td>\n",
              "      <td>1.000000</td>\n",
              "      <td>5.000000</td>\n",
              "      <td>0.000000</td>\n",
              "      <td>1.000000</td>\n",
              "      <td>1.000000</td>\n",
              "      <td>1.000000</td>\n",
              "      <td>0.000000</td>\n",
              "      <td>11.000000</td>\n",
              "      <td>0.000000</td>\n",
              "      <td>1.000000</td>\n",
              "      <td>0.000000</td>\n",
              "      <td>0.000000</td>\n",
              "    </tr>\n",
              "    <tr>\n",
              "      <th>25%</th>\n",
              "      <td>51660.000000</td>\n",
              "      <td>0.000000</td>\n",
              "      <td>1.000000</td>\n",
              "      <td>1.000000</td>\n",
              "      <td>9.000000</td>\n",
              "      <td>2.000000</td>\n",
              "      <td>3.000000</td>\n",
              "      <td>2.000000</td>\n",
              "      <td>2.000000</td>\n",
              "      <td>0.000000</td>\n",
              "      <td>13.000000</td>\n",
              "      <td>1.000000</td>\n",
              "      <td>1.000000</td>\n",
              "      <td>2.000000</td>\n",
              "      <td>148.490000</td>\n",
              "    </tr>\n",
              "    <tr>\n",
              "      <th>50%</th>\n",
              "      <td>53161.000000</td>\n",
              "      <td>0.000000</td>\n",
              "      <td>8.000000</td>\n",
              "      <td>1.000000</td>\n",
              "      <td>14.000000</td>\n",
              "      <td>3.000000</td>\n",
              "      <td>4.000000</td>\n",
              "      <td>3.000000</td>\n",
              "      <td>3.000000</td>\n",
              "      <td>0.000000</td>\n",
              "      <td>15.000000</td>\n",
              "      <td>1.000000</td>\n",
              "      <td>2.000000</td>\n",
              "      <td>3.000000</td>\n",
              "      <td>160.050000</td>\n",
              "    </tr>\n",
              "    <tr>\n",
              "      <th>75%</th>\n",
              "      <td>54398.000000</td>\n",
              "      <td>0.000000</td>\n",
              "      <td>13.000000</td>\n",
              "      <td>3.000000</td>\n",
              "      <td>21.000000</td>\n",
              "      <td>3.000000</td>\n",
              "      <td>4.000000</td>\n",
              "      <td>4.000000</td>\n",
              "      <td>6.000000</td>\n",
              "      <td>1.000000</td>\n",
              "      <td>18.000000</td>\n",
              "      <td>2.000000</td>\n",
              "      <td>3.000000</td>\n",
              "      <td>7.000000</td>\n",
              "      <td>178.025000</td>\n",
              "    </tr>\n",
              "    <tr>\n",
              "      <th>max</th>\n",
              "      <td>55630.000000</td>\n",
              "      <td>1.000000</td>\n",
              "      <td>31.000000</td>\n",
              "      <td>3.000000</td>\n",
              "      <td>36.000000</td>\n",
              "      <td>5.000000</td>\n",
              "      <td>6.000000</td>\n",
              "      <td>5.000000</td>\n",
              "      <td>11.000000</td>\n",
              "      <td>1.000000</td>\n",
              "      <td>26.000000</td>\n",
              "      <td>16.000000</td>\n",
              "      <td>16.000000</td>\n",
              "      <td>46.000000</td>\n",
              "      <td>324.990000</td>\n",
              "    </tr>\n",
              "  </tbody>\n",
              "</table>\n",
              "</div>\n",
              "      <button class=\"colab-df-convert\" onclick=\"convertToInteractive('df-2658b5a4-4856-40d7-acef-b817342550f7')\"\n",
              "              title=\"Convert this dataframe to an interactive table.\"\n",
              "              style=\"display:none;\">\n",
              "        \n",
              "  <svg xmlns=\"http://www.w3.org/2000/svg\" height=\"24px\"viewBox=\"0 0 24 24\"\n",
              "       width=\"24px\">\n",
              "    <path d=\"M0 0h24v24H0V0z\" fill=\"none\"/>\n",
              "    <path d=\"M18.56 5.44l.94 2.06.94-2.06 2.06-.94-2.06-.94-.94-2.06-.94 2.06-2.06.94zm-11 1L8.5 8.5l.94-2.06 2.06-.94-2.06-.94L8.5 2.5l-.94 2.06-2.06.94zm10 10l.94 2.06.94-2.06 2.06-.94-2.06-.94-.94-2.06-.94 2.06-2.06.94z\"/><path d=\"M17.41 7.96l-1.37-1.37c-.4-.4-.92-.59-1.43-.59-.52 0-1.04.2-1.43.59L10.3 9.45l-7.72 7.72c-.78.78-.78 2.05 0 2.83L4 21.41c.39.39.9.59 1.41.59.51 0 1.02-.2 1.41-.59l7.78-7.78 2.81-2.81c.8-.78.8-2.07 0-2.86zM5.41 20L4 18.59l7.72-7.72 1.47 1.35L5.41 20z\"/>\n",
              "  </svg>\n",
              "      </button>\n",
              "      \n",
              "  <style>\n",
              "    .colab-df-container {\n",
              "      display:flex;\n",
              "      flex-wrap:wrap;\n",
              "      gap: 12px;\n",
              "    }\n",
              "\n",
              "    .colab-df-convert {\n",
              "      background-color: #E8F0FE;\n",
              "      border: none;\n",
              "      border-radius: 50%;\n",
              "      cursor: pointer;\n",
              "      display: none;\n",
              "      fill: #1967D2;\n",
              "      height: 32px;\n",
              "      padding: 0 0 0 0;\n",
              "      width: 32px;\n",
              "    }\n",
              "\n",
              "    .colab-df-convert:hover {\n",
              "      background-color: #E2EBFA;\n",
              "      box-shadow: 0px 1px 2px rgba(60, 64, 67, 0.3), 0px 1px 3px 1px rgba(60, 64, 67, 0.15);\n",
              "      fill: #174EA6;\n",
              "    }\n",
              "\n",
              "    [theme=dark] .colab-df-convert {\n",
              "      background-color: #3B4455;\n",
              "      fill: #D2E3FC;\n",
              "    }\n",
              "\n",
              "    [theme=dark] .colab-df-convert:hover {\n",
              "      background-color: #434B5C;\n",
              "      box-shadow: 0px 1px 3px 1px rgba(0, 0, 0, 0.15);\n",
              "      filter: drop-shadow(0px 1px 2px rgba(0, 0, 0, 0.3));\n",
              "      fill: #FFFFFF;\n",
              "    }\n",
              "  </style>\n",
              "\n",
              "      <script>\n",
              "        const buttonEl =\n",
              "          document.querySelector('#df-2658b5a4-4856-40d7-acef-b817342550f7 button.colab-df-convert');\n",
              "        buttonEl.style.display =\n",
              "          google.colab.kernel.accessAllowed ? 'block' : 'none';\n",
              "\n",
              "        async function convertToInteractive(key) {\n",
              "          const element = document.querySelector('#df-2658b5a4-4856-40d7-acef-b817342550f7');\n",
              "          const dataTable =\n",
              "            await google.colab.kernel.invokeFunction('convertToInteractive',\n",
              "                                                     [key], {});\n",
              "          if (!dataTable) return;\n",
              "\n",
              "          const docLinkHtml = 'Like what you see? Visit the ' +\n",
              "            '<a target=\"_blank\" href=https://colab.research.google.com/notebooks/data_table.ipynb>data table notebook</a>'\n",
              "            + ' to learn more about interactive tables.';\n",
              "          element.innerHTML = '';\n",
              "          dataTable['output_type'] = 'display_data';\n",
              "          await google.colab.output.renderOutput(dataTable, element);\n",
              "          const docLink = document.createElement('div');\n",
              "          docLink.innerHTML = docLinkHtml;\n",
              "          element.appendChild(docLink);\n",
              "        }\n",
              "      </script>\n",
              "    </div>\n",
              "  </div>\n",
              "  "
            ]
          },
          "metadata": {},
          "execution_count": 105
        }
      ]
    },
    {
      "cell_type": "markdown",
      "source": [
        "##Feature Encoding dan Selection"
      ],
      "metadata": {
        "id": "8romxFdrmW9x"
      }
    },
    {
      "cell_type": "markdown",
      "source": [
        "Variabel **CustomerID** tidak begitu diperlukan dan memiliki hubungan yang sangat rendah dengan variabel target sehingga akan di-drop"
      ],
      "metadata": {
        "id": "lT1N8uMInIeE"
      }
    },
    {
      "cell_type": "code",
      "source": [
        "df1 = df1.drop(columns=['CustomerID','CouponUsed', 'OrderCount', 'HourSpendOnApp', 'NumberOfAddress'])"
      ],
      "metadata": {
        "id": "lejI_oywmp-K"
      },
      "execution_count": null,
      "outputs": []
    },
    {
      "cell_type": "code",
      "source": [
        "df1.info()"
      ],
      "metadata": {
        "colab": {
          "base_uri": "https://localhost:8080/"
        },
        "id": "vPMPMQskoLs5",
        "outputId": "adcb6842-2eaf-41a1-d6ff-68e30f38956b"
      },
      "execution_count": null,
      "outputs": [
        {
          "output_type": "stream",
          "name": "stdout",
          "text": [
            "<class 'pandas.core.frame.DataFrame'>\n",
            "Int64Index: 3767 entries, 0 to 5629\n",
            "Data columns (total 15 columns):\n",
            " #   Column                       Non-Null Count  Dtype  \n",
            "---  ------                       --------------  -----  \n",
            " 0   Churn                        3767 non-null   int64  \n",
            " 1   Tenure                       3767 non-null   float64\n",
            " 2   PreferredLoginDevice         3767 non-null   object \n",
            " 3   CityTier                     3767 non-null   int64  \n",
            " 4   WarehouseToHome              3767 non-null   float64\n",
            " 5   PreferredPaymentMode         3767 non-null   object \n",
            " 6   Gender                       3767 non-null   object \n",
            " 7   NumberOfDeviceRegistered     3767 non-null   int64  \n",
            " 8   PreferedOrderCat             3767 non-null   object \n",
            " 9   SatisfactionScore            3767 non-null   int64  \n",
            " 10  MaritalStatus                3767 non-null   object \n",
            " 11  Complain                     3767 non-null   int64  \n",
            " 12  OrderAmountHikeFromlastYear  3767 non-null   float64\n",
            " 13  DaySinceLastOrder            3767 non-null   float64\n",
            " 14  CashbackAmount               3767 non-null   float64\n",
            "dtypes: float64(5), int64(5), object(5)\n",
            "memory usage: 470.9+ KB\n"
          ]
        }
      ]
    },
    {
      "cell_type": "code",
      "source": [
        "df2 = df1\n",
        "new_categorical = ['PreferedOrderCat','PreferredLoginDevice', 'MaritalStatus']"
      ],
      "metadata": {
        "id": "7pqKPyhcoXVx"
      },
      "execution_count": null,
      "outputs": []
    },
    {
      "cell_type": "code",
      "source": [
        "for cat in new_categorical:\n",
        "    onehots = pd.get_dummies(df1[new_categorical], prefix=new_categorical)\n",
        "    df2 = df1.join(onehots)"
      ],
      "metadata": {
        "id": "vjL5dEBtoz38"
      },
      "execution_count": null,
      "outputs": []
    },
    {
      "cell_type": "code",
      "source": [
        "df2.info()"
      ],
      "metadata": {
        "colab": {
          "base_uri": "https://localhost:8080/"
        },
        "id": "oEHvOntfpHdm",
        "outputId": "62619ef5-ad40-4b12-9691-16e18ef7deab"
      },
      "execution_count": null,
      "outputs": [
        {
          "output_type": "stream",
          "name": "stdout",
          "text": [
            "<class 'pandas.core.frame.DataFrame'>\n",
            "Int64Index: 3767 entries, 0 to 5629\n",
            "Data columns (total 25 columns):\n",
            " #   Column                               Non-Null Count  Dtype  \n",
            "---  ------                               --------------  -----  \n",
            " 0   Churn                                3767 non-null   int64  \n",
            " 1   Tenure                               3767 non-null   float64\n",
            " 2   PreferredLoginDevice                 3767 non-null   object \n",
            " 3   CityTier                             3767 non-null   int64  \n",
            " 4   WarehouseToHome                      3767 non-null   float64\n",
            " 5   PreferredPaymentMode                 3767 non-null   object \n",
            " 6   Gender                               3767 non-null   object \n",
            " 7   NumberOfDeviceRegistered             3767 non-null   int64  \n",
            " 8   PreferedOrderCat                     3767 non-null   object \n",
            " 9   SatisfactionScore                    3767 non-null   int64  \n",
            " 10  MaritalStatus                        3767 non-null   object \n",
            " 11  Complain                             3767 non-null   int64  \n",
            " 12  OrderAmountHikeFromlastYear          3767 non-null   float64\n",
            " 13  DaySinceLastOrder                    3767 non-null   float64\n",
            " 14  CashbackAmount                       3767 non-null   float64\n",
            " 15  PreferedOrderCat_Fashion             3767 non-null   uint8  \n",
            " 16  PreferedOrderCat_Grocery             3767 non-null   uint8  \n",
            " 17  PreferedOrderCat_Laptop & Accessory  3767 non-null   uint8  \n",
            " 18  PreferedOrderCat_Mobile Phone        3767 non-null   uint8  \n",
            " 19  PreferedOrderCat_Others              3767 non-null   uint8  \n",
            " 20  PreferredLoginDevice_Computer        3767 non-null   uint8  \n",
            " 21  PreferredLoginDevice_Mobile Phone    3767 non-null   uint8  \n",
            " 22  MaritalStatus_Divorced               3767 non-null   uint8  \n",
            " 23  MaritalStatus_Married                3767 non-null   uint8  \n",
            " 24  MaritalStatus_Single                 3767 non-null   uint8  \n",
            "dtypes: float64(5), int64(5), object(5), uint8(10)\n",
            "memory usage: 636.7+ KB\n"
          ]
        }
      ]
    },
    {
      "cell_type": "code",
      "source": [
        "f, ax = plt.subplots(figsize=(16, 16))\n",
        "mask = np.zeros_like(df2.corr())\n",
        "mask[np.triu_indices_from(mask)] = True\n",
        "sns.heatmap(df2.corr(),cmap=\"Blues\",mask=mask, square=True,linewidths=1,annot=True)"
      ],
      "metadata": {
        "colab": {
          "base_uri": "https://localhost:8080/",
          "height": 1000
        },
        "id": "J-iE868qp6nt",
        "outputId": "dd453502-6fce-411d-8a3c-40201aa43d6f"
      },
      "execution_count": null,
      "outputs": [
        {
          "output_type": "execute_result",
          "data": {
            "text/plain": [
              "<matplotlib.axes._subplots.AxesSubplot at 0x7f15a507a430>"
            ]
          },
          "metadata": {},
          "execution_count": 111
        },
        {
          "output_type": "display_data",
          "data": {
            "text/plain": [
              "<Figure size 1152x1152 with 2 Axes>"
            ],
            "image/png": "[encoded data removed]"
          },
          "metadata": {
            "needs_background": "light"
          }
        }
      ]
    },
    {
      "cell_type": "markdown",
      "source": [
        "Dari heatmap di atas, beberapa variabel yang paling berkaitan dengan variabel target adalah **Tenure, DaySinceLastOrder, Complain, PreferedOrderCat_Mobile Phone, PreferedOrderCat_Laptop & Accessory, dan MaritalStatus_Single**"
      ],
      "metadata": {
        "id": "EYBL0ErgqW2H"
      }
    },
    {
      "cell_type": "code",
      "source": [
        "best_var = ['Churn','Tenure', 'DaySinceLastOrder','Complain', 'PreferedOrderCat_Mobile Phone', 'PreferedOrderCat_Laptop & Accessory', 'MaritalStatus_Single']\n",
        "df3 = df2[best_var]"
      ],
      "metadata": {
        "id": "Uf7-1S5Nsg8E"
      },
      "execution_count": null,
      "outputs": []
    },
    {
      "cell_type": "markdown",
      "source": [
        "##Mengatasi Dataset Imbalance"
      ],
      "metadata": {
        "id": "VDveypD6qgx5"
      }
    },
    {
      "cell_type": "code",
      "source": [
        "df3['Churn'].value_counts()"
      ],
      "metadata": {
        "colab": {
          "base_uri": "https://localhost:8080/"
        },
        "id": "s8CFA7TrqkQT",
        "outputId": "6d536e7f-04f5-4d7f-8902-7732d43b09e4"
      },
      "execution_count": null,
      "outputs": [
        {
          "output_type": "execute_result",
          "data": {
            "text/plain": [
              "0    3137\n",
              "1     630\n",
              "Name: Churn, dtype: int64"
            ]
          },
          "metadata": {},
          "execution_count": 115
        }
      ]
    },
    {
      "cell_type": "code",
      "source": [
        "df3['Churn0'] = df3['Churn']==0\n",
        "df3['Churn0'].value_counts()"
      ],
      "metadata": {
        "colab": {
          "base_uri": "https://localhost:8080/"
        },
        "id": "syOBTNdGrTHr",
        "outputId": "129ec1e7-c6a7-44e2-cbd4-3be3db72b592"
      },
      "execution_count": null,
      "outputs": [
        {
          "output_type": "execute_result",
          "data": {
            "text/plain": [
              "True     3137\n",
              "False     630\n",
              "Name: Churn0, dtype: int64"
            ]
          },
          "metadata": {},
          "execution_count": 116
        }
      ]
    },
    {
      "cell_type": "code",
      "source": [
        "X = df3[[col for col in df3.columns if (str(df3[col].dtype) != 'object') and col not in ['Churn0']]]\n",
        "y = df3['Churn0'].values\n",
        "print(X.shape)\n",
        "print(y.shape)"
      ],
      "metadata": {
        "colab": {
          "base_uri": "https://localhost:8080/"
        },
        "id": "8hNyiniartyN",
        "outputId": "9e0ff813-4f08-41c0-c309-adf92f7f599b"
      },
      "execution_count": null,
      "outputs": [
        {
          "output_type": "stream",
          "name": "stdout",
          "text": [
            "(3767, 7)\n",
            "(3767,)\n"
          ]
        }
      ]
    },
    {
      "cell_type": "code",
      "execution_count": null,
      "metadata": {
        "id": "ae1afae4",
        "outputId": "87cda3a6-16f8-4bdb-98eb-0f053bcd8823",
        "colab": {
          "base_uri": "https://localhost:8080/"
        }
      },
      "outputs": [
        {
          "output_type": "execute_result",
          "data": {
            "text/plain": [
              "False    630\n",
              "True     630\n",
              "dtype: int64"
            ]
          },
          "metadata": {},
          "execution_count": 118
        }
      ],
      "source": [
        "from imblearn import under_sampling\n",
        "X_over, y_over = under_sampling.RandomUnderSampler().fit_resample(X, y)\n",
        "pd.Series(y_over).value_counts()"
      ]
    },
    {
      "cell_type": "code",
      "execution_count": null,
      "metadata": {
        "id": "ea9644da"
      },
      "outputs": [],
      "source": [
        "df3 = X_over"
      ]
    },
    {
      "cell_type": "markdown",
      "source": [
        "Data telah siap dimodeling dengan evaluasi regresi. Sekarang data akan diexport dengan kode berikut:"
      ],
      "metadata": {
        "id": "8ma37JQ1tuKq"
      }
    },
    {
      "cell_type": "markdown",
      "source": [
        "##Kesimpulan"
      ],
      "metadata": {
        "id": "9DNaHHivuObq"
      }
    },
    {
      "cell_type": "markdown",
      "source": [
        "Pada tahap Machine Learning Preparation telah dilakukan tahapan berikut ini:\n",
        "* Mengatasi missing values\n",
        "* Mengatasi data duplikasi\n",
        "* Mengatasi data outlier dengan metode IQR dan menghapus outlier ekstrem\n",
        "* Normalisasi dan standarisasi\n",
        "* Feature Encoding\n",
        "* Feature Selection\n",
        "* Mengatasi Imbalance Dataset"
      ],
      "metadata": {
        "id": "ES800oTpuUCP"
      }
    },
    {
      "cell_type": "markdown",
      "source": [
        "# Modelling Machine Learning (Task 5)"
      ],
      "metadata": {
        "id": "JEYSpwT3Ozla"
      }
    },
    {
      "cell_type": "markdown",
      "metadata": {
        "id": "hxJj-BqNMAMq"
      },
      "source": [
        "## Train test Split"
      ]
    },
    {
      "cell_type": "markdown",
      "source": [
        "Disini kita bagi dulu df3 yang berisi 1 variabel target (Churn) dan 6 variabel yang dianggap paling berpengaruh terhadap variabel target"
      ],
      "metadata": {
        "id": "BvQ-VrLAPFVo"
      }
    },
    {
      "cell_type": "code",
      "execution_count": null,
      "metadata": {
        "id": "n4fNhRosL_da"
      },
      "outputs": [],
      "source": [
        "from sklearn.model_selection import train_test_split\n",
        "\n",
        "X = df3.drop(['Churn'], axis=1)\n",
        "y = df3['Churn']\n",
        "\n",
        "X_train, X_test, y_train, y_test = train_test_split(X, y, test_size=0.2, random_state=12)"
      ]
    },
    {
      "cell_type": "markdown",
      "metadata": {
        "id": "EMiySmLXNlw9"
      },
      "source": [
        "## Standardization\n",
        "\n",
        "1. MinMax Scaller untuk distribusi normal\n",
        "2. Standart Scaller untuk yang distribusinya skew\n",
        "3. Robust Scaller - banyak outlier"
      ]
    },
    {
      "cell_type": "markdown",
      "source": [
        "Untuk task kali ini, akan digunakan Standard Scaler"
      ],
      "metadata": {
        "id": "SIWh16_nQZA3"
      }
    },
    {
      "cell_type": "code",
      "execution_count": null,
      "metadata": {
        "id": "psZttGFrNoJ0"
      },
      "outputs": [],
      "source": [
        "from sklearn.preprocessing import StandardScaler\n",
        "sc = StandardScaler()\n",
        "X_train = sc.fit_transform(X_train)\n",
        "X_test = sc.transform(X_test)"
      ]
    },
    {
      "cell_type": "code",
      "execution_count": null,
      "metadata": {
        "colab": {
          "base_uri": "https://localhost:8080/",
          "height": 250
        },
        "id": "KutOzUrROHaX",
        "outputId": "28278833-af57-4599-99d1-916c5f56f200"
      },
      "outputs": [
        {
          "output_type": "execute_result",
          "data": {
            "text/plain": [
              "     Tenure  DaySinceLastOrder  Complain  PreferedOrderCat_Mobile Phone  \\\n",
              "0 -0.882045           1.129426  1.243163                      -0.894427   \n",
              "1  1.158114           0.247581 -0.804400                      -0.894427   \n",
              "2  0.886093          -0.340315  1.243163                      -0.894427   \n",
              "3  1.702156          -0.340315  1.243163                       1.118034   \n",
              "4 -0.882045          -0.634263  1.243163                       1.118034   \n",
              "\n",
              "   PreferedOrderCat_Laptop & Accessory  MaritalStatus_Single  \n",
              "0                             1.140776             -0.831430  \n",
              "1                             1.140776             -0.831430  \n",
              "2                             1.140776             -0.831430  \n",
              "3                            -0.876596             -0.831430  \n",
              "4                            -0.876596              1.202748  "
            ],
            "text/html": [
              "\n",
              "  <div id=\"df-f6aa93f5-a454-4a19-9e08-2171d8980a35\">\n",
              "    <div class=\"colab-df-container\">\n",
              "      <div>\n",
              "<style scoped>\n",
              "    .dataframe tbody tr th:only-of-type {\n",
              "        vertical-align: middle;\n",
              "    }\n",
              "\n",
              "    .dataframe tbody tr th {\n",
              "        vertical-align: top;\n",
              "    }\n",
              "\n",
              "    .dataframe thead th {\n",
              "        text-align: right;\n",
              "    }\n",
              "</style>\n",
              "<table border=\"1\" class=\"dataframe\">\n",
              "  <thead>\n",
              "    <tr style=\"text-align: right;\">\n",
              "      <th></th>\n",
              "      <th>Tenure</th>\n",
              "      <th>DaySinceLastOrder</th>\n",
              "      <th>Complain</th>\n",
              "      <th>PreferedOrderCat_Mobile Phone</th>\n",
              "      <th>PreferedOrderCat_Laptop &amp; Accessory</th>\n",
              "      <th>MaritalStatus_Single</th>\n",
              "    </tr>\n",
              "  </thead>\n",
              "  <tbody>\n",
              "    <tr>\n",
              "      <th>0</th>\n",
              "      <td>-0.882045</td>\n",
              "      <td>1.129426</td>\n",
              "      <td>1.243163</td>\n",
              "      <td>-0.894427</td>\n",
              "      <td>1.140776</td>\n",
              "      <td>-0.831430</td>\n",
              "    </tr>\n",
              "    <tr>\n",
              "      <th>1</th>\n",
              "      <td>1.158114</td>\n",
              "      <td>0.247581</td>\n",
              "      <td>-0.804400</td>\n",
              "      <td>-0.894427</td>\n",
              "      <td>1.140776</td>\n",
              "      <td>-0.831430</td>\n",
              "    </tr>\n",
              "    <tr>\n",
              "      <th>2</th>\n",
              "      <td>0.886093</td>\n",
              "      <td>-0.340315</td>\n",
              "      <td>1.243163</td>\n",
              "      <td>-0.894427</td>\n",
              "      <td>1.140776</td>\n",
              "      <td>-0.831430</td>\n",
              "    </tr>\n",
              "    <tr>\n",
              "      <th>3</th>\n",
              "      <td>1.702156</td>\n",
              "      <td>-0.340315</td>\n",
              "      <td>1.243163</td>\n",
              "      <td>1.118034</td>\n",
              "      <td>-0.876596</td>\n",
              "      <td>-0.831430</td>\n",
              "    </tr>\n",
              "    <tr>\n",
              "      <th>4</th>\n",
              "      <td>-0.882045</td>\n",
              "      <td>-0.634263</td>\n",
              "      <td>1.243163</td>\n",
              "      <td>1.118034</td>\n",
              "      <td>-0.876596</td>\n",
              "      <td>1.202748</td>\n",
              "    </tr>\n",
              "  </tbody>\n",
              "</table>\n",
              "</div>\n",
              "      <button class=\"colab-df-convert\" onclick=\"convertToInteractive('df-f6aa93f5-a454-4a19-9e08-2171d8980a35')\"\n",
              "              title=\"Convert this dataframe to an interactive table.\"\n",
              "              style=\"display:none;\">\n",
              "        \n",
              "  <svg xmlns=\"http://www.w3.org/2000/svg\" height=\"24px\"viewBox=\"0 0 24 24\"\n",
              "       width=\"24px\">\n",
              "    <path d=\"M0 0h24v24H0V0z\" fill=\"none\"/>\n",
              "    <path d=\"M18.56 5.44l.94 2.06.94-2.06 2.06-.94-2.06-.94-.94-2.06-.94 2.06-2.06.94zm-11 1L8.5 8.5l.94-2.06 2.06-.94-2.06-.94L8.5 2.5l-.94 2.06-2.06.94zm10 10l.94 2.06.94-2.06 2.06-.94-2.06-.94-.94-2.06-.94 2.06-2.06.94z\"/><path d=\"M17.41 7.96l-1.37-1.37c-.4-.4-.92-.59-1.43-.59-.52 0-1.04.2-1.43.59L10.3 9.45l-7.72 7.72c-.78.78-.78 2.05 0 2.83L4 21.41c.39.39.9.59 1.41.59.51 0 1.02-.2 1.41-.59l7.78-7.78 2.81-2.81c.8-.78.8-2.07 0-2.86zM5.41 20L4 18.59l7.72-7.72 1.47 1.35L5.41 20z\"/>\n",
              "  </svg>\n",
              "      </button>\n",
              "      \n",
              "  <style>\n",
              "    .colab-df-container {\n",
              "      display:flex;\n",
              "      flex-wrap:wrap;\n",
              "      gap: 12px;\n",
              "    }\n",
              "\n",
              "    .colab-df-convert {\n",
              "      background-color: #E8F0FE;\n",
              "      border: none;\n",
              "      border-radius: 50%;\n",
              "      cursor: pointer;\n",
              "      display: none;\n",
              "      fill: #1967D2;\n",
              "      height: 32px;\n",
              "      padding: 0 0 0 0;\n",
              "      width: 32px;\n",
              "    }\n",
              "\n",
              "    .colab-df-convert:hover {\n",
              "      background-color: #E2EBFA;\n",
              "      box-shadow: 0px 1px 2px rgba(60, 64, 67, 0.3), 0px 1px 3px 1px rgba(60, 64, 67, 0.15);\n",
              "      fill: #174EA6;\n",
              "    }\n",
              "\n",
              "    [theme=dark] .colab-df-convert {\n",
              "      background-color: #3B4455;\n",
              "      fill: #D2E3FC;\n",
              "    }\n",
              "\n",
              "    [theme=dark] .colab-df-convert:hover {\n",
              "      background-color: #434B5C;\n",
              "      box-shadow: 0px 1px 3px 1px rgba(0, 0, 0, 0.15);\n",
              "      filter: drop-shadow(0px 1px 2px rgba(0, 0, 0, 0.3));\n",
              "      fill: #FFFFFF;\n",
              "    }\n",
              "  </style>\n",
              "\n",
              "      <script>\n",
              "        const buttonEl =\n",
              "          document.querySelector('#df-f6aa93f5-a454-4a19-9e08-2171d8980a35 button.colab-df-convert');\n",
              "        buttonEl.style.display =\n",
              "          google.colab.kernel.accessAllowed ? 'block' : 'none';\n",
              "\n",
              "        async function convertToInteractive(key) {\n",
              "          const element = document.querySelector('#df-f6aa93f5-a454-4a19-9e08-2171d8980a35');\n",
              "          const dataTable =\n",
              "            await google.colab.kernel.invokeFunction('convertToInteractive',\n",
              "                                                     [key], {});\n",
              "          if (!dataTable) return;\n",
              "\n",
              "          const docLinkHtml = 'Like what you see? Visit the ' +\n",
              "            '<a target=\"_blank\" href=https://colab.research.google.com/notebooks/data_table.ipynb>data table notebook</a>'\n",
              "            + ' to learn more about interactive tables.';\n",
              "          element.innerHTML = '';\n",
              "          dataTable['output_type'] = 'display_data';\n",
              "          await google.colab.output.renderOutput(dataTable, element);\n",
              "          const docLink = document.createElement('div');\n",
              "          docLink.innerHTML = docLinkHtml;\n",
              "          element.appendChild(docLink);\n",
              "        }\n",
              "      </script>\n",
              "    </div>\n",
              "  </div>\n",
              "  "
            ]
          },
          "metadata": {},
          "execution_count": 122
        }
      ],
      "source": [
        "X_train = pd.DataFrame(X_train, columns=X.columns)\n",
        "X_test = pd.DataFrame(X_test, columns=X.columns)\n",
        "X_train.head()"
      ]
    },
    {
      "cell_type": "markdown",
      "metadata": {
        "id": "okIZY04tMxQj"
      },
      "source": [
        "## Imbalanced Dataset"
      ]
    },
    {
      "cell_type": "markdown",
      "source": [
        "Untuk melihat dulu proporsi antara nilai 1 (Churn) dan 0 (tidak Churn)"
      ],
      "metadata": {
        "id": "LHRFBkTTQgLI"
      }
    },
    {
      "cell_type": "code",
      "execution_count": null,
      "metadata": {
        "colab": {
          "base_uri": "https://localhost:8080/"
        },
        "id": "Fp9hvMPyLs-h",
        "outputId": "6bc538cf-594c-44f4-bca5-7be2728d76e9"
      },
      "outputs": [
        {
          "output_type": "execute_result",
          "data": {
            "text/plain": [
              "0    509\n",
              "1    499\n",
              "Name: Churn, dtype: int64"
            ]
          },
          "metadata": {},
          "execution_count": 123
        }
      ],
      "source": [
        "# Label proportion\n",
        "pd.Series(y_train).value_counts()"
      ]
    },
    {
      "cell_type": "markdown",
      "metadata": {
        "id": "qp8D-jW4PhTu"
      },
      "source": [
        "## Undersampling"
      ]
    },
    {
      "cell_type": "markdown",
      "source": [
        "Membuat data undersampling dengan menghapus sebagian data dengan jumlah yang lebih besar dan menyamakan dengan data yang lebih sedikit"
      ],
      "metadata": {
        "id": "8btYe50uQqbA"
      }
    },
    {
      "cell_type": "code",
      "execution_count": null,
      "metadata": {
        "id": "A97CQQLkMpoK"
      },
      "outputs": [],
      "source": [
        "from imblearn.under_sampling import RandomUnderSampler\n",
        "undersample = RandomUnderSampler(sampling_strategy='majority')\n",
        "X_under, y_under = undersample.fit_resample(X_train, y_train)"
      ]
    },
    {
      "cell_type": "code",
      "execution_count": null,
      "metadata": {
        "colab": {
          "base_uri": "https://localhost:8080/"
        },
        "id": "S9uaJggSRNcr",
        "outputId": "f84da561-04ad-4b0e-df74-f4dbf473d777"
      },
      "outputs": [
        {
          "output_type": "execute_result",
          "data": {
            "text/plain": [
              "0    499\n",
              "1    499\n",
              "Name: Churn, dtype: int64"
            ]
          },
          "metadata": {},
          "execution_count": 125
        }
      ],
      "source": [
        "pd.Series(y_under).value_counts()"
      ]
    },
    {
      "cell_type": "markdown",
      "metadata": {
        "id": "_KpCRfsvR-Cl"
      },
      "source": [
        "## SMOTE Oversampling"
      ]
    },
    {
      "cell_type": "markdown",
      "source": [
        "Membuat data undersampling dengan membuat semacam duplikasi data dengan jumlah yang lebih sedikit hingga menyamai data yang lebih sedikit"
      ],
      "metadata": {
        "id": "lNska0Z2RPa6"
      }
    },
    {
      "cell_type": "code",
      "execution_count": null,
      "metadata": {
        "id": "qb9mFTGHR9hV"
      },
      "outputs": [],
      "source": [
        "from imblearn.over_sampling import SMOTE\n",
        "oversample = SMOTE()\n",
        "X_over, y_over = oversample.fit_resample(X_train, y_train)"
      ]
    },
    {
      "cell_type": "code",
      "execution_count": null,
      "metadata": {
        "colab": {
          "base_uri": "https://localhost:8080/"
        },
        "id": "Sa1UHiUiR0si",
        "outputId": "2ac5b92e-a9d5-4376-928b-f8061411ee51"
      },
      "outputs": [
        {
          "output_type": "execute_result",
          "data": {
            "text/plain": [
              "1    509\n",
              "0    509\n",
              "Name: Churn, dtype: int64"
            ]
          },
          "metadata": {},
          "execution_count": 127
        }
      ],
      "source": [
        "pd.Series(y_over).value_counts()"
      ]
    },
    {
      "cell_type": "markdown",
      "metadata": {
        "id": "_o66jOG5pxSB"
      },
      "source": [
        "## Modelling"
      ]
    },
    {
      "cell_type": "code",
      "execution_count": null,
      "metadata": {
        "id": "Xjo-L6Svp0kW"
      },
      "outputs": [],
      "source": [
        "from  sklearn.metrics import accuracy_score, precision_score, recall_score, f1_score\n",
        "from  sklearn.metrics import roc_curve, auc"
      ]
    },
    {
      "cell_type": "code",
      "execution_count": null,
      "metadata": {
        "id": "MnWOi9-XqOtp"
      },
      "outputs": [],
      "source": [
        "def eval_classification(model, pred, xtrain, ytrain, xtest, ytest):\n",
        "    print(\"Accuracy (Test Set): %.4f\" % accuracy_score(ytest, pred))\n",
        "    print(\"Precision (Test Set): %.4f\" % precision_score(ytest, pred))\n",
        "    print(\"Recall (Test Set): %.4f\" % recall_score(ytest, pred))\n",
        "    print(\"F1-Score (Test Set): %.4f\" % f1_score(ytest, pred))\n",
        "\n",
        "    fpr, tpr, thresholds = roc_curve(ytest, pred, pos_label=1) # pos_label: label yang kita anggap positive\n",
        "    print(\"AUC: %.2f\" % auc(fpr, tpr))\n",
        "\n",
        "def show_feature_importance(model):\n",
        "    feat_importances = pd.Series(model.feature_importances_, index=X.columns)\n",
        "    ax = feat_importances.nlargest(25).plot(kind='barh', figsize=(10, 8))\n",
        "    ax.invert_yaxis()\n",
        "\n",
        "    plt.xlabel('score')\n",
        "    plt.ylabel('feature')\n",
        "    plt.title('feature importance score')"
      ]
    },
    {
      "cell_type": "markdown",
      "metadata": {
        "id": "G1IW6VPFsOxh"
      },
      "source": [
        "Prediksi dengan data Under sampling"
      ]
    },
    {
      "cell_type": "code",
      "execution_count": null,
      "metadata": {
        "colab": {
          "base_uri": "https://localhost:8080/"
        },
        "id": "TDIpaYCPqlW5",
        "outputId": "d5aeb82e-590f-47c7-d04c-2d49d1c18201"
      },
      "outputs": [
        {
          "output_type": "stream",
          "name": "stdout",
          "text": [
            "Accuracy (Test Set): 0.7738\n",
            "Precision (Test Set): 0.7721\n",
            "Recall (Test Set): 0.8015\n",
            "F1-Score (Test Set): 0.7865\n",
            "AUC: 0.77\n"
          ]
        }
      ],
      "source": [
        "from sklearn.linear_model import LogisticRegression\n",
        "\n",
        "model_lr = LogisticRegression(random_state=42)\n",
        "model_lr.fit(X_under, y_under)\n",
        "\n",
        "lr_pred = model_lr.predict(X_test)\n",
        "\n",
        "eval_classification(model_lr,lr_pred,X_under, y_under, X_test, y_test)"
      ]
    },
    {
      "cell_type": "markdown",
      "metadata": {
        "id": "Y5ILl8Y9sSf4"
      },
      "source": [
        "Prediksi dengan data oversampling"
      ]
    },
    {
      "cell_type": "code",
      "execution_count": null,
      "metadata": {
        "colab": {
          "base_uri": "https://localhost:8080/"
        },
        "id": "O_lseQlVsFiH",
        "outputId": "70474e5c-aa31-4097-c4a3-44a0ab61a1f4"
      },
      "outputs": [
        {
          "output_type": "stream",
          "name": "stdout",
          "text": [
            "Accuracy (Test Set): 0.7738\n",
            "Precision (Test Set): 0.7721\n",
            "Recall (Test Set): 0.8015\n",
            "F1-Score (Test Set): 0.7865\n",
            "AUC: 0.77\n"
          ]
        }
      ],
      "source": [
        "from sklearn.linear_model import LogisticRegression\n",
        "\n",
        "model_lr = LogisticRegression(random_state=42)\n",
        "model_lr.fit(X_over, y_over)\n",
        "\n",
        "lr_pred = model_lr.predict(X_test)\n",
        "\n",
        "eval_classification(model_lr,lr_pred,X_over, y_over, X_test, y_test)"
      ]
    },
    {
      "cell_type": "markdown",
      "source": [
        "## Cek Overfitting/Underfitting"
      ],
      "metadata": {
        "id": "qC3cRrO9L46m"
      }
    },
    {
      "cell_type": "code",
      "execution_count": null,
      "metadata": {
        "colab": {
          "base_uri": "https://localhost:8080/"
        },
        "id": "gUzZakBJs5Vk",
        "outputId": "fd648de6-833a-4236-b95b-568c58478e22"
      },
      "outputs": [
        {
          "output_type": "stream",
          "name": "stdout",
          "text": [
            "Training set Oversampling score: 0.7898\n",
            "Test set Oversampling score: 0.7738\n",
            "====================================\n",
            "Training set Undersampling score: 0.7886\n",
            "Test set Undersampling score: 0.7738\n"
          ]
        }
      ],
      "source": [
        "# print the scores on training and test set\n",
        "\n",
        "print('Training set Oversampling score: {:.4f}'.format(model_lr.score(X_over, y_over)))\n",
        "print('Test set Oversampling score: {:.4f}'.format(model_lr.score(X_test, y_test)))\n",
        "print(\"====================================\")\n",
        "print('Training set Undersampling score: {:.4f}'.format(model_lr.score(X_under, y_under)))\n",
        "print('Test set Undersampling score: {:.4f}'.format(model_lr.score(X_test, y_test)))\n"
      ]
    },
    {
      "cell_type": "markdown",
      "metadata": {
        "id": "AZEKFRzhuNXE"
      },
      "source": [
        "## Null accuracy\n",
        "Digunkana untuk mengetahui performa model kita apakah memliki kecenderungan ke salah satu class atau tidak.\n",
        "\n",
        "Rumus : Total data dg label terbanyak/ seluruh data\n",
        "\n",
        "Metriksnya : Null accuracy harus dibawah nilai accuracy"
      ]
    },
    {
      "cell_type": "code",
      "execution_count": null,
      "metadata": {
        "id": "Ixf4Chg2tozt"
      },
      "outputs": [],
      "source": [
        "# check null accuracy score\n",
        "def check_nullAccuracy(total_minLabel,total_maxLabel):\n",
        "  null_accuracy = (total_maxLabel/(total_minLabel+total_maxLabel))\n",
        "  print('Null accuracy score: {0:0.4f}'. format(null_accuracy))"
      ]
    },
    {
      "cell_type": "code",
      "execution_count": null,
      "metadata": {
        "colab": {
          "base_uri": "https://localhost:8080/"
        },
        "id": "m8tVTuO-u8fh",
        "outputId": "057b4396-31a6-4244-b5a5-6deb589fbaba"
      },
      "outputs": [
        {
          "output_type": "execute_result",
          "data": {
            "text/plain": [
              "1    131\n",
              "0    121\n",
              "Name: Churn, dtype: int64"
            ]
          },
          "metadata": {},
          "execution_count": 134
        }
      ],
      "source": [
        "y_test.value_counts()"
      ]
    },
    {
      "cell_type": "code",
      "execution_count": null,
      "metadata": {
        "colab": {
          "base_uri": "https://localhost:8080/"
        },
        "id": "GQoNKUXHvC_m",
        "outputId": "50bae365-765d-4f63-9a9e-32e4afe4e7fa"
      },
      "outputs": [
        {
          "output_type": "stream",
          "name": "stdout",
          "text": [
            "Null accuracy score: 0.4802\n"
          ]
        }
      ],
      "source": [
        "check_nullAccuracy(131,121)"
      ]
    },
    {
      "cell_type": "markdown",
      "metadata": {
        "id": "QDI4LuIhxEq6"
      },
      "source": [
        "## Ensemble Learning\n",
        "\n",
        "1. Bagging : Random Forest\n",
        "2. Boosting : XGBoost, Adaboost\n",
        "3. Stacking : Gabungan algoritma apa saja."
      ]
    },
    {
      "cell_type": "markdown",
      "metadata": {
        "id": "dMo31vQQxuDT"
      },
      "source": [
        "### 1. Bagging (RandomForest)"
      ]
    },
    {
      "cell_type": "code",
      "execution_count": null,
      "metadata": {
        "colab": {
          "base_uri": "https://localhost:8080/"
        },
        "id": "7GFDhptKxYxL",
        "outputId": "679ed3e3-4896-4497-c422-a880fda5f851"
      },
      "outputs": [
        {
          "output_type": "stream",
          "name": "stdout",
          "text": [
            "Accuracy (Test Set): 0.8651\n",
            "Precision (Test Set): 0.8489\n",
            "Recall (Test Set): 0.9008\n",
            "F1-Score (Test Set): 0.8741\n",
            "AUC: 0.86\n"
          ]
        }
      ],
      "source": [
        "from sklearn.ensemble import RandomForestClassifier\n",
        "rf = RandomForestClassifier(random_state=42)\n",
        "rf.fit(X_under, y_under)\n",
        "\n",
        "y_pred = rf.predict(X_test)\n",
        "eval_classification(rf, y_pred,X_under, y_under, X_test, y_test)"
      ]
    },
    {
      "cell_type": "markdown",
      "source": [
        "Skor untuk Undersampling"
      ],
      "metadata": {
        "id": "-vLy21g3UHzr"
      }
    },
    {
      "cell_type": "code",
      "execution_count": null,
      "metadata": {
        "colab": {
          "base_uri": "https://localhost:8080/"
        },
        "id": "IVGMXKIix4aa",
        "outputId": "3433fe7a-15f6-4cdf-e96d-e1e76711e26e"
      },
      "outputs": [
        {
          "output_type": "stream",
          "name": "stdout",
          "text": [
            "Accuracy (Test Set): 0.8571\n",
            "Precision (Test Set): 0.8467\n",
            "Recall (Test Set): 0.8855\n",
            "F1-Score (Test Set): 0.8657\n",
            "AUC: 0.86\n"
          ]
        }
      ],
      "source": [
        "from sklearn.ensemble import RandomForestClassifier\n",
        "rf = RandomForestClassifier(random_state=42)\n",
        "rf.fit(X_over, y_over)\n",
        "\n",
        "y_pred = rf.predict(X_test)\n",
        "eval_classification(rf, y_pred,X_over, y_over, X_test, y_test)"
      ]
    },
    {
      "cell_type": "markdown",
      "source": [
        "Skor untuk Oversampling"
      ],
      "metadata": {
        "id": "J3GPBRfiUJMP"
      }
    },
    {
      "cell_type": "code",
      "execution_count": null,
      "metadata": {
        "colab": {
          "base_uri": "https://localhost:8080/",
          "height": 513
        },
        "id": "hLGZi141yNvv",
        "outputId": "e0791b9d-98c5-4c75-9b9b-3d435a5bca36"
      },
      "outputs": [
        {
          "output_type": "display_data",
          "data": {
            "text/plain": [
              "<Figure size 720x576 with 1 Axes>"
            ],
            "image/png": "[encoded data removed]"
          },
          "metadata": {
            "needs_background": "light"
          }
        }
      ],
      "source": [
        "show_feature_importance(rf)"
      ]
    },
    {
      "cell_type": "markdown",
      "metadata": {
        "id": "UkJbOibKzP8D"
      },
      "source": [
        "### 2. Boosting (XGboost)"
      ]
    },
    {
      "cell_type": "code",
      "execution_count": null,
      "metadata": {
        "colab": {
          "base_uri": "https://localhost:8080/"
        },
        "id": "qozfP1nyzNpt",
        "outputId": "f67874fc-b186-4856-dbc0-96e299a8d18a"
      },
      "outputs": [
        {
          "output_type": "stream",
          "name": "stdout",
          "text": [
            "Accuracy (Test Set): 0.8056\n",
            "Precision (Test Set): 0.8254\n",
            "Recall (Test Set): 0.7939\n",
            "F1-Score (Test Set): 0.8093\n",
            "AUC: 0.81\n"
          ]
        }
      ],
      "source": [
        "from xgboost import XGBClassifier\n",
        "xg = XGBClassifier(random_state=50)\n",
        "xg.fit(X_under, y_under)\n",
        "\n",
        "y_pred = xg.predict(X_test)\n",
        "eval_classification(xg, y_pred,X_under, y_under, X_test, y_test)"
      ]
    },
    {
      "cell_type": "code",
      "execution_count": null,
      "metadata": {
        "colab": {
          "base_uri": "https://localhost:8080/",
          "height": 513
        },
        "id": "-LrDDNbPzzja",
        "outputId": "facea5d3-2df8-41d9-eabc-14146bead045"
      },
      "outputs": [
        {
          "output_type": "display_data",
          "data": {
            "text/plain": [
              "<Figure size 720x576 with 1 Axes>"
            ],
            "image/png": "[encoded data removed]"
          },
          "metadata": {
            "needs_background": "light"
          }
        }
      ],
      "source": [
        "show_feature_importance(xg)"
      ]
    },
    {
      "cell_type": "markdown",
      "metadata": {
        "id": "vd7TnjX10N5B"
      },
      "source": [
        "## Metrix"
      ]
    },
    {
      "cell_type": "markdown",
      "metadata": {
        "id": "XIPqgeZ60Ryz"
      },
      "source": [
        "### A. Confusion Metrix"
      ]
    },
    {
      "cell_type": "code",
      "execution_count": null,
      "metadata": {
        "colab": {
          "base_uri": "https://localhost:8080/"
        },
        "id": "KcxzzYb60XLP",
        "outputId": "3d486293-34a1-4049-b131-e2559da69a43"
      },
      "outputs": [
        {
          "output_type": "stream",
          "name": "stdout",
          "text": [
            "Confusion matrix\n",
            "\n",
            " [[ 99  22]\n",
            " [ 27 104]]\n",
            "\n",
            "True Positives(TP) =  99\n",
            "\n",
            "True Negatives(TN) =  104\n",
            "\n",
            "False Positives(FP) =  22\n",
            "\n",
            "False Negatives(FN) =  27\n"
          ]
        }
      ],
      "source": [
        "# Print the Confusion Matrix and slice it into four pieces\n",
        "\n",
        "from sklearn.metrics import confusion_matrix\n",
        "\n",
        "cm = confusion_matrix(y_test, y_pred)\n",
        "\n",
        "print('Confusion matrix\\n\\n', cm)\n",
        "\n",
        "print('\\nTrue Positives(TP) = ', cm[0,0])\n",
        "\n",
        "print('\\nTrue Negatives(TN) = ', cm[1,1])\n",
        "\n",
        "print('\\nFalse Positives(FP) = ', cm[0,1])\n",
        "\n",
        "print('\\nFalse Negatives(FN) = ', cm[1,0])"
      ]
    },
    {
      "cell_type": "code",
      "execution_count": null,
      "metadata": {
        "colab": {
          "base_uri": "https://localhost:8080/",
          "height": 283
        },
        "id": "4AqP4PSv01lc",
        "outputId": "6602e627-2921-44ab-9297-bff385a675ca"
      },
      "outputs": [
        {
          "output_type": "execute_result",
          "data": {
            "text/plain": [
              "<matplotlib.axes._subplots.AxesSubplot at 0x7f15a3c4a400>"
            ]
          },
          "metadata": {},
          "execution_count": 142
        },
        {
          "output_type": "display_data",
          "data": {
            "text/plain": [
              "<Figure size 432x288 with 2 Axes>"
            ],
            "image/png": "[encoded data removed]"
          },
          "metadata": {
            "needs_background": "light"
          }
        }
      ],
      "source": [
        "# visualize confusion matrix with seaborn heatmap\n",
        "import seaborn as sns\n",
        "cm_matrix = pd.DataFrame(data=cm, columns=['Actual Positive:1', 'Actual Negative:0'],\n",
        "                                 index=['Predict Positive:1', 'Predict Negative:0'])\n",
        "\n",
        "sns.heatmap(cm_matrix, annot=True, fmt='d', cmap='YlGnBu')"
      ]
    },
    {
      "cell_type": "code",
      "execution_count": null,
      "metadata": {
        "colab": {
          "base_uri": "https://localhost:8080/"
        },
        "id": "WeDcX99P09qP",
        "outputId": "8f6ad45e-ac60-4325-8f2c-a5b2586d4106"
      },
      "outputs": [
        {
          "output_type": "stream",
          "name": "stdout",
          "text": [
            "              precision    recall  f1-score   support\n",
            "\n",
            "           0       0.79      0.82      0.80       121\n",
            "           1       0.83      0.79      0.81       131\n",
            "\n",
            "    accuracy                           0.81       252\n",
            "   macro avg       0.81      0.81      0.81       252\n",
            "weighted avg       0.81      0.81      0.81       252\n",
            "\n"
          ]
        }
      ],
      "source": [
        "from sklearn.metrics import classification_report\n",
        "\n",
        "print(classification_report(y_test, y_pred))"
      ]
    },
    {
      "cell_type": "code",
      "execution_count": null,
      "metadata": {
        "id": "c4bMRik41iOK"
      },
      "outputs": [],
      "source": [
        "TP = cm[0,0]\n",
        "TN = cm[1,1]\n",
        "FP = cm[0,1]\n",
        "FN = cm[1,0]"
      ]
    },
    {
      "cell_type": "code",
      "execution_count": null,
      "metadata": {
        "colab": {
          "base_uri": "https://localhost:8080/"
        },
        "id": "0MswFjg61tD2",
        "outputId": "8285ac28-3ef3-407f-8f00-0dfcbe6bd472"
      },
      "outputs": [
        {
          "output_type": "stream",
          "name": "stdout",
          "text": [
            "Classification accuracy : 0.8056\n"
          ]
        }
      ],
      "source": [
        "accuracy = (TP+TN) / float(TP+TN+FP+FN)\n",
        "\n",
        "print('Classification accuracy : {0:0.4f}'.format(accuracy))"
      ]
    },
    {
      "cell_type": "code",
      "execution_count": null,
      "metadata": {
        "colab": {
          "base_uri": "https://localhost:8080/"
        },
        "id": "j9Gmg2Di2mn-",
        "outputId": "2d4d1ff0-3c0d-4249-efc4-39b8a3b12107"
      },
      "outputs": [
        {
          "output_type": "stream",
          "name": "stdout",
          "text": [
            "Classification Error : 0.1944\n"
          ]
        }
      ],
      "source": [
        "class_error = (FP+FN) / float(TP+TN+FP+FN)\n",
        "\n",
        "print('Classification Error : {0:0.4f}'.format(class_error))"
      ]
    },
    {
      "cell_type": "code",
      "execution_count": null,
      "metadata": {
        "colab": {
          "base_uri": "https://localhost:8080/"
        },
        "id": "sHTFd65a25RY",
        "outputId": "d9fbdea3-bdc0-4d35-d4d8-2c931042f039"
      },
      "outputs": [
        {
          "output_type": "stream",
          "name": "stdout",
          "text": [
            "Precision : 0.8182\n"
          ]
        }
      ],
      "source": [
        "# print precision score\n",
        "\n",
        "precision = TP / float(TP + FP)\n",
        "\n",
        "\n",
        "print('Precision : {0:0.4f}'.format(precision))\n"
      ]
    },
    {
      "cell_type": "code",
      "execution_count": null,
      "metadata": {
        "colab": {
          "base_uri": "https://localhost:8080/"
        },
        "id": "yVlSqYe23T7g",
        "outputId": "dfff06d5-edb8-400d-b30a-203b56d3ed07"
      },
      "outputs": [
        {
          "output_type": "stream",
          "name": "stdout",
          "text": [
            "Recall or Sensitivity or TPR : 0.7857\n"
          ]
        }
      ],
      "source": [
        "recall = TP / float(TP + FN)\n",
        "\n",
        "print('Recall or Sensitivity or TPR : {0:0.4f}'.format(recall))"
      ]
    },
    {
      "cell_type": "markdown",
      "metadata": {
        "id": "TV7hh4U-4C7x"
      },
      "source": [
        "## Threshold"
      ]
    },
    {
      "cell_type": "code",
      "execution_count": null,
      "metadata": {
        "colab": {
          "base_uri": "https://localhost:8080/"
        },
        "id": "NZK-9hE_43bK",
        "outputId": "40d2f7f5-091c-403f-f212-a54be9d7435e"
      },
      "outputs": [
        {
          "output_type": "execute_result",
          "data": {
            "text/plain": [
              "array([[0.0425    , 0.9575    ],\n",
              "       [0.0625    , 0.9375    ],\n",
              "       [0.03      , 0.97      ],\n",
              "       [0.24521825, 0.75478175],\n",
              "       [1.        , 0.        ],\n",
              "       [0.88333333, 0.11666667],\n",
              "       [0.97      , 0.03      ],\n",
              "       [0.94966667, 0.05033333],\n",
              "       [0.05961629, 0.94038371],\n",
              "       [0.        , 1.        ]])"
            ]
          },
          "metadata": {},
          "execution_count": 149
        }
      ],
      "source": [
        "# print the first 10 predicted probabilities of two classes- 0 and 1\n",
        "\n",
        "y_pred_prob = rf.predict_proba(X_test)[0:10]\n",
        "\n",
        "y_pred_prob"
      ]
    },
    {
      "cell_type": "code",
      "execution_count": null,
      "metadata": {
        "colab": {
          "base_uri": "https://localhost:8080/",
          "height": 363
        },
        "id": "oUXg2t9Z5VLH",
        "outputId": "98a0bc5e-9e05-4d9a-ef71-f33f907f0073"
      },
      "outputs": [
        {
          "output_type": "execute_result",
          "data": {
            "text/plain": [
              "   Prob of - Churn (1)  Prob of - No Churn (0)\n",
              "0             0.042500                0.957500\n",
              "1             0.062500                0.937500\n",
              "2             0.030000                0.970000\n",
              "3             0.245218                0.754782\n",
              "4             1.000000                0.000000\n",
              "5             0.883333                0.116667\n",
              "6             0.970000                0.030000\n",
              "7             0.949667                0.050333\n",
              "8             0.059616                0.940384\n",
              "9             0.000000                1.000000"
            ],
            "text/html": [
              "\n",
              "  <div id=\"df-767f1238-6b1c-4dc8-87a3-1997e68b7b1b\">\n",
              "    <div class=\"colab-df-container\">\n",
              "      <div>\n",
              "<style scoped>\n",
              "    .dataframe tbody tr th:only-of-type {\n",
              "        vertical-align: middle;\n",
              "    }\n",
              "\n",
              "    .dataframe tbody tr th {\n",
              "        vertical-align: top;\n",
              "    }\n",
              "\n",
              "    .dataframe thead th {\n",
              "        text-align: right;\n",
              "    }\n",
              "</style>\n",
              "<table border=\"1\" class=\"dataframe\">\n",
              "  <thead>\n",
              "    <tr style=\"text-align: right;\">\n",
              "      <th></th>\n",
              "      <th>Prob of - Churn (1)</th>\n",
              "      <th>Prob of - No Churn (0)</th>\n",
              "    </tr>\n",
              "  </thead>\n",
              "  <tbody>\n",
              "    <tr>\n",
              "      <th>0</th>\n",
              "      <td>0.042500</td>\n",
              "      <td>0.957500</td>\n",
              "    </tr>\n",
              "    <tr>\n",
              "      <th>1</th>\n",
              "      <td>0.062500</td>\n",
              "      <td>0.937500</td>\n",
              "    </tr>\n",
              "    <tr>\n",
              "      <th>2</th>\n",
              "      <td>0.030000</td>\n",
              "      <td>0.970000</td>\n",
              "    </tr>\n",
              "    <tr>\n",
              "      <th>3</th>\n",
              "      <td>0.245218</td>\n",
              "      <td>0.754782</td>\n",
              "    </tr>\n",
              "    <tr>\n",
              "      <th>4</th>\n",
              "      <td>1.000000</td>\n",
              "      <td>0.000000</td>\n",
              "    </tr>\n",
              "    <tr>\n",
              "      <th>5</th>\n",
              "      <td>0.883333</td>\n",
              "      <td>0.116667</td>\n",
              "    </tr>\n",
              "    <tr>\n",
              "      <th>6</th>\n",
              "      <td>0.970000</td>\n",
              "      <td>0.030000</td>\n",
              "    </tr>\n",
              "    <tr>\n",
              "      <th>7</th>\n",
              "      <td>0.949667</td>\n",
              "      <td>0.050333</td>\n",
              "    </tr>\n",
              "    <tr>\n",
              "      <th>8</th>\n",
              "      <td>0.059616</td>\n",
              "      <td>0.940384</td>\n",
              "    </tr>\n",
              "    <tr>\n",
              "      <th>9</th>\n",
              "      <td>0.000000</td>\n",
              "      <td>1.000000</td>\n",
              "    </tr>\n",
              "  </tbody>\n",
              "</table>\n",
              "</div>\n",
              "      <button class=\"colab-df-convert\" onclick=\"convertToInteractive('df-767f1238-6b1c-4dc8-87a3-1997e68b7b1b')\"\n",
              "              title=\"Convert this dataframe to an interactive table.\"\n",
              "              style=\"display:none;\">\n",
              "        \n",
              "  <svg xmlns=\"http://www.w3.org/2000/svg\" height=\"24px\"viewBox=\"0 0 24 24\"\n",
              "       width=\"24px\">\n",
              "    <path d=\"M0 0h24v24H0V0z\" fill=\"none\"/>\n",
              "    <path d=\"M18.56 5.44l.94 2.06.94-2.06 2.06-.94-2.06-.94-.94-2.06-.94 2.06-2.06.94zm-11 1L8.5 8.5l.94-2.06 2.06-.94-2.06-.94L8.5 2.5l-.94 2.06-2.06.94zm10 10l.94 2.06.94-2.06 2.06-.94-2.06-.94-.94-2.06-.94 2.06-2.06.94z\"/><path d=\"M17.41 7.96l-1.37-1.37c-.4-.4-.92-.59-1.43-.59-.52 0-1.04.2-1.43.59L10.3 9.45l-7.72 7.72c-.78.78-.78 2.05 0 2.83L4 21.41c.39.39.9.59 1.41.59.51 0 1.02-.2 1.41-.59l7.78-7.78 2.81-2.81c.8-.78.8-2.07 0-2.86zM5.41 20L4 18.59l7.72-7.72 1.47 1.35L5.41 20z\"/>\n",
              "  </svg>\n",
              "      </button>\n",
              "      \n",
              "  <style>\n",
              "    .colab-df-container {\n",
              "      display:flex;\n",
              "      flex-wrap:wrap;\n",
              "      gap: 12px;\n",
              "    }\n",
              "\n",
              "    .colab-df-convert {\n",
              "      background-color: #E8F0FE;\n",
              "      border: none;\n",
              "      border-radius: 50%;\n",
              "      cursor: pointer;\n",
              "      display: none;\n",
              "      fill: #1967D2;\n",
              "      height: 32px;\n",
              "      padding: 0 0 0 0;\n",
              "      width: 32px;\n",
              "    }\n",
              "\n",
              "    .colab-df-convert:hover {\n",
              "      background-color: #E2EBFA;\n",
              "      box-shadow: 0px 1px 2px rgba(60, 64, 67, 0.3), 0px 1px 3px 1px rgba(60, 64, 67, 0.15);\n",
              "      fill: #174EA6;\n",
              "    }\n",
              "\n",
              "    [theme=dark] .colab-df-convert {\n",
              "      background-color: #3B4455;\n",
              "      fill: #D2E3FC;\n",
              "    }\n",
              "\n",
              "    [theme=dark] .colab-df-convert:hover {\n",
              "      background-color: #434B5C;\n",
              "      box-shadow: 0px 1px 3px 1px rgba(0, 0, 0, 0.15);\n",
              "      filter: drop-shadow(0px 1px 2px rgba(0, 0, 0, 0.3));\n",
              "      fill: #FFFFFF;\n",
              "    }\n",
              "  </style>\n",
              "\n",
              "      <script>\n",
              "        const buttonEl =\n",
              "          document.querySelector('#df-767f1238-6b1c-4dc8-87a3-1997e68b7b1b button.colab-df-convert');\n",
              "        buttonEl.style.display =\n",
              "          google.colab.kernel.accessAllowed ? 'block' : 'none';\n",
              "\n",
              "        async function convertToInteractive(key) {\n",
              "          const element = document.querySelector('#df-767f1238-6b1c-4dc8-87a3-1997e68b7b1b');\n",
              "          const dataTable =\n",
              "            await google.colab.kernel.invokeFunction('convertToInteractive',\n",
              "                                                     [key], {});\n",
              "          if (!dataTable) return;\n",
              "\n",
              "          const docLinkHtml = 'Like what you see? Visit the ' +\n",
              "            '<a target=\"_blank\" href=https://colab.research.google.com/notebooks/data_table.ipynb>data table notebook</a>'\n",
              "            + ' to learn more about interactive tables.';\n",
              "          element.innerHTML = '';\n",
              "          dataTable['output_type'] = 'display_data';\n",
              "          await google.colab.output.renderOutput(dataTable, element);\n",
              "          const docLink = document.createElement('div');\n",
              "          docLink.innerHTML = docLinkHtml;\n",
              "          element.appendChild(docLink);\n",
              "        }\n",
              "      </script>\n",
              "    </div>\n",
              "  </div>\n",
              "  "
            ]
          },
          "metadata": {},
          "execution_count": 150
        }
      ],
      "source": [
        "# store the probabilities in dataframe\n",
        "\n",
        "y_pred_prob_df = pd.DataFrame(data=y_pred_prob, columns=['Prob of - Churn (1)', 'Prob of - No Churn (0)'])\n",
        "\n",
        "y_pred_prob_df"
      ]
    },
    {
      "cell_type": "code",
      "execution_count": null,
      "metadata": {
        "id": "Jo9F1cHj5gF0"
      },
      "outputs": [],
      "source": [
        "# store the predicted probabilities for class 1 - Probability of rain\n",
        "\n",
        "y_pred1 = rf.predict_proba(X_test)[:, 1]"
      ]
    },
    {
      "cell_type": "code",
      "execution_count": null,
      "metadata": {
        "colab": {
          "base_uri": "https://localhost:8080/",
          "height": 320
        },
        "id": "8_UxAyvZ5pmE",
        "outputId": "7b038888-c3d2-4ccc-e5fa-4159a99d3541"
      },
      "outputs": [
        {
          "output_type": "execute_result",
          "data": {
            "text/plain": [
              "Text(0, 0.5, 'Frequency')"
            ]
          },
          "metadata": {},
          "execution_count": 153
        },
        {
          "output_type": "display_data",
          "data": {
            "text/plain": [
              "<Figure size 432x288 with 1 Axes>"
            ],
            "image/png": "[encoded data removed]"
          },
          "metadata": {
            "needs_background": "light"
          }
        }
      ],
      "source": [
        "# plot histogram of predicted probabilities\n",
        "\n",
        "\n",
        "# adjust the font size\n",
        "plt.rcParams['font.size'] = 12\n",
        "\n",
        "\n",
        "# plot histogram with 10 bins\n",
        "plt.hist(y_pred1, bins = 10)\n",
        "\n",
        "\n",
        "# set the title of predicted probabilities\n",
        "plt.title('Histogram of predicted probabilities of Churm')\n",
        "\n",
        "\n",
        "# set the x-axis limit\n",
        "plt.xlim(0,1)\n",
        "\n",
        "\n",
        "# set the title\n",
        "plt.xlabel('Predicted probabilities of Churn')\n",
        "plt.ylabel('Frequency')"
      ]
    },
    {
      "cell_type": "code",
      "execution_count": null,
      "metadata": {
        "colab": {
          "base_uri": "https://localhost:8080/"
        },
        "id": "kdwJTkTq5wP0",
        "outputId": "6366be39-04b1-477d-d095-0d7876e5e60a"
      },
      "outputs": [
        {
          "output_type": "stream",
          "name": "stdout",
          "text": [
            "With 0.1 threshold the Confusion Matrix is  \n",
            "\n",
            " [[ 72  49]\n",
            " [  4 127]] \n",
            "\n",
            " with 199 correct predictions,  \n",
            "\n",
            " 49 Type I errors( False Positives),  \n",
            "\n",
            " 4 Type II errors( False Negatives),  \n",
            "\n",
            " Accuracy score:  0.7896825396825397 \n",
            "\n",
            " Sensitivity:  0.9694656488549618 \n",
            "\n",
            " Specificity:  0.5950413223140496 \n",
            "\n",
            " ==================================================== \n",
            "\n",
            "\n",
            "With 0.2 threshold the Confusion Matrix is  \n",
            "\n",
            " [[ 86  35]\n",
            " [  4 127]] \n",
            "\n",
            " with 213 correct predictions,  \n",
            "\n",
            " 35 Type I errors( False Positives),  \n",
            "\n",
            " 4 Type II errors( False Negatives),  \n",
            "\n",
            " Accuracy score:  0.8452380952380952 \n",
            "\n",
            " Sensitivity:  0.9694656488549618 \n",
            "\n",
            " Specificity:  0.7107438016528925 \n",
            "\n",
            " ==================================================== \n",
            "\n",
            "\n",
            "With 0.3 threshold the Confusion Matrix is  \n",
            "\n",
            " [[ 93  28]\n",
            " [  4 127]] \n",
            "\n",
            " with 220 correct predictions,  \n",
            "\n",
            " 28 Type I errors( False Positives),  \n",
            "\n",
            " 4 Type II errors( False Negatives),  \n",
            "\n",
            " Accuracy score:  0.873015873015873 \n",
            "\n",
            " Sensitivity:  0.9694656488549618 \n",
            "\n",
            " Specificity:  0.768595041322314 \n",
            "\n",
            " ==================================================== \n",
            "\n",
            "\n",
            "With 0.4 threshold the Confusion Matrix is  \n",
            "\n",
            " [[ 97  24]\n",
            " [ 11 120]] \n",
            "\n",
            " with 217 correct predictions,  \n",
            "\n",
            " 24 Type I errors( False Positives),  \n",
            "\n",
            " 11 Type II errors( False Negatives),  \n",
            "\n",
            " Accuracy score:  0.8611111111111112 \n",
            "\n",
            " Sensitivity:  0.916030534351145 \n",
            "\n",
            " Specificity:  0.8016528925619835 \n",
            "\n",
            " ==================================================== \n",
            "\n",
            "\n",
            "With 0.5 threshold the Confusion Matrix is  \n",
            "\n",
            " [[100  21]\n",
            " [ 15 116]] \n",
            "\n",
            " with 216 correct predictions,  \n",
            "\n",
            " 21 Type I errors( False Positives),  \n",
            "\n",
            " 15 Type II errors( False Negatives),  \n",
            "\n",
            " Accuracy score:  0.8571428571428571 \n",
            "\n",
            " Sensitivity:  0.8854961832061069 \n",
            "\n",
            " Specificity:  0.8264462809917356 \n",
            "\n",
            " ==================================================== \n",
            "\n",
            "\n",
            "With 0.6 threshold the Confusion Matrix is  \n",
            "\n",
            " [[105  16]\n",
            " [ 20 111]] \n",
            "\n",
            " with 216 correct predictions,  \n",
            "\n",
            " 16 Type I errors( False Positives),  \n",
            "\n",
            " 20 Type II errors( False Negatives),  \n",
            "\n",
            " Accuracy score:  0.8571428571428571 \n",
            "\n",
            " Sensitivity:  0.8473282442748091 \n",
            "\n",
            " Specificity:  0.8677685950413223 \n",
            "\n",
            " ==================================================== \n",
            "\n",
            "\n",
            "With 0.7 threshold the Confusion Matrix is  \n",
            "\n",
            " [[108  13]\n",
            " [ 29 102]] \n",
            "\n",
            " with 210 correct predictions,  \n",
            "\n",
            " 13 Type I errors( False Positives),  \n",
            "\n",
            " 29 Type II errors( False Negatives),  \n",
            "\n",
            " Accuracy score:  0.8333333333333334 \n",
            "\n",
            " Sensitivity:  0.7786259541984732 \n",
            "\n",
            " Specificity:  0.8925619834710744 \n",
            "\n",
            " ==================================================== \n",
            "\n",
            "\n",
            "With 0.8 threshold the Confusion Matrix is  \n",
            "\n",
            " [[112   9]\n",
            " [ 41  90]] \n",
            "\n",
            " with 202 correct predictions,  \n",
            "\n",
            " 9 Type I errors( False Positives),  \n",
            "\n",
            " 41 Type II errors( False Negatives),  \n",
            "\n",
            " Accuracy score:  0.8015873015873016 \n",
            "\n",
            " Sensitivity:  0.6870229007633588 \n",
            "\n",
            " Specificity:  0.9256198347107438 \n",
            "\n",
            " ==================================================== \n",
            "\n",
            "\n"
          ]
        }
      ],
      "source": [
        "from sklearn.preprocessing import binarize\n",
        "\n",
        "for i in range(1,9):\n",
        "\n",
        "    cm1=0\n",
        "\n",
        "    y_pred1 = rf.predict_proba(X_test)[:,1]\n",
        "\n",
        "    y_pred1 = y_pred1.reshape(-1,1)\n",
        "\n",
        "    y_pred2 = binarize(y_pred1,  threshold=i/10)\n",
        "\n",
        "    # y_pred2 = np.where(y_pred2 == 1, 'Yes', 'No')\n",
        "    # print(y_test)\n",
        "    # print(y_pred2)\n",
        "\n",
        "\n",
        "    cm1 = confusion_matrix(y_test, y_pred2)\n",
        "\n",
        "    print ('With',i/10,'threshold the Confusion Matrix is ','\\n\\n',cm1,'\\n\\n',\n",
        "\n",
        "            'with',cm1[0,0]+cm1[1,1],'correct predictions, ', '\\n\\n',\n",
        "\n",
        "            cm1[0,1],'Type I errors( False Positives), ','\\n\\n',\n",
        "\n",
        "            cm1[1,0],'Type II errors( False Negatives), ','\\n\\n',\n",
        "\n",
        "           'Accuracy score: ', (accuracy_score(y_test, y_pred2)), '\\n\\n',\n",
        "\n",
        "           'Sensitivity: ',cm1[1,1]/(float(cm1[1,1]+cm1[1,0])), '\\n\\n',\n",
        "\n",
        "           'Specificity: ',cm1[0,0]/(float(cm1[0,0]+cm1[0,1])),'\\n\\n',\n",
        "\n",
        "            '====================================================', '\\n\\n')"
      ]
    },
    {
      "cell_type": "code",
      "execution_count": null,
      "metadata": {
        "id": "4utGUK2s-V8w"
      },
      "outputs": [],
      "source": [
        "y_pred1 = rf.predict_proba(X_test)[:,1]\n",
        "\n",
        "y_pred1 = y_pred1.reshape(-1,1)\n",
        "\n",
        "y_pred2 = binarize(y_pred1, threshold= 0.3)\n",
        "\n",
        "# predicted_final = np.where(y_pred2 == 1, 'Yes', 'No')"
      ]
    },
    {
      "cell_type": "markdown",
      "source": [
        "Untuk threshold dengan akurasi tertinggi ada di 0.3, sehingga selanjutnya akan digunakan threshold di angka tersebut"
      ],
      "metadata": {
        "id": "UsGxgShxUcDE"
      }
    },
    {
      "cell_type": "code",
      "execution_count": null,
      "metadata": {
        "colab": {
          "base_uri": "https://localhost:8080/"
        },
        "id": "tGu2bIHp-amq",
        "outputId": "0632c2de-7631-44de-e6b9-cb587a3301a0"
      },
      "outputs": [
        {
          "output_type": "execute_result",
          "data": {
            "text/plain": [
              "array([[1.],\n",
              "       [1.],\n",
              "       [1.],\n",
              "       [1.],\n",
              "       [0.],\n",
              "       [0.],\n",
              "       [0.],\n",
              "       [0.],\n",
              "       [1.],\n",
              "       [1.]])"
            ]
          },
          "metadata": {},
          "execution_count": 156
        }
      ],
      "source": [
        "y_pred2[0:10]"
      ]
    },
    {
      "cell_type": "markdown",
      "metadata": {
        "id": "Z6pr3IG16Yq2"
      },
      "source": [
        "## ROC AUC"
      ]
    },
    {
      "cell_type": "code",
      "execution_count": null,
      "metadata": {
        "colab": {
          "base_uri": "https://localhost:8080/"
        },
        "id": "9Y9yJBlv6Tm6",
        "outputId": "3b334e99-4646-4b05-c245-f54909ce32ed"
      },
      "outputs": [
        {
          "output_type": "stream",
          "name": "stdout",
          "text": [
            "ROC AUC : 0.8690\n"
          ]
        }
      ],
      "source": [
        "# compute ROC AUC\n",
        "\n",
        "from sklearn.metrics import roc_auc_score\n",
        "\n",
        "ROC_AUC = roc_auc_score(y_test, y_pred2)\n",
        "\n",
        "print('ROC AUC : {:.4f}'.format(ROC_AUC))"
      ]
    },
    {
      "cell_type": "markdown",
      "metadata": {
        "id": "g9ZerL3y8Eg2"
      },
      "source": [
        "## Hyperparameter Tunning"
      ]
    },
    {
      "cell_type": "code",
      "execution_count": null,
      "metadata": {
        "id": "AaK6ZVJJ8Due",
        "colab": {
          "base_uri": "https://localhost:8080/"
        },
        "outputId": "22ac2acf-2e2d-4776-8505-c0a08d9b236f"
      },
      "outputs": [
        {
          "output_type": "stream",
          "name": "stdout",
          "text": [
            "Accuracy (Test Set): 0.8095\n",
            "Precision (Test Set): 0.8074\n",
            "Recall (Test Set): 0.8321\n",
            "F1-Score (Test Set): 0.8195\n",
            "AUC: 0.81\n"
          ]
        }
      ],
      "source": [
        "from sklearn.model_selection import RandomizedSearchCV, GridSearchCV\n",
        "\n",
        "#List Hyperparameters yang akan diuji\n",
        "hyperparameters = dict(\n",
        "                       n_estimators = [int(x) for x in np.linspace(start = 100, stop = 2000, num = 10)], # Jumlah subtree\n",
        "                       bootstrap = [True], # Apakah pakai bootstrapping atau tidak\n",
        "                       criterion = ['gini','entropy'],\n",
        "                       max_depth = [int(x) for x in np.linspace(10, 110, num = 5)],  # Maximum kedalaman tree\n",
        "                       min_samples_split = [int(x) for x in np.linspace(start = 2, stop = 10, num = 5)], # Jumlah minimum samples pada node agar boleh di split menjadi leaf baru\n",
        "                       min_samples_leaf = [int(x) for x in np.linspace(start = 1, stop = 10, num = 5)], # Jumlah minimum samples pada leaf agar boleh terbentuk leaf baru\n",
        "                       max_features = ['auto', 'sqrt'], # Jumlah feature yg dipertimbangkan pada masing-masing split\n",
        "                       n_jobs = [-1], # Core untuk parallel computation. -1 untuk menggunakan semua core\n",
        "                      )\n",
        "\n",
        "# Init\n",
        "rf = RandomForestClassifier(random_state=42)\n",
        "rf_tuned = RandomizedSearchCV(rf, hyperparameters, cv=5, random_state=42, scoring='recall')\n",
        "rf_tuned.fit(X_over, y_over)\n",
        "\n",
        "\n",
        "\n",
        "# Predict & Evaluation\n",
        "y_pred = rf_tuned.predict(X_test)#Check performa dari model\n",
        "eval_classification(rf_tuned, y_pred, X_over, y_over, X_test, y_test)"
      ]
    },
    {
      "cell_type": "markdown",
      "source": [
        "## Kesimpulan"
      ],
      "metadata": {
        "id": "doXwSu29U0QM"
      }
    },
    {
      "cell_type": "markdown",
      "source": [
        "#### Model yang dipakai"
      ],
      "metadata": {
        "id": "uum5tCwByoKg"
      }
    },
    {
      "cell_type": "markdown",
      "source": [
        "Pada Modelling Machine Learning dataset E-Commerce ini digunakan metode sebagai berikut:\n",
        "1. Logistic Regression pada data Undersampling\n",
        "2. Logistic Regression pada data Oversampling\n",
        "3. Random Forest pada Bagging (Ensemble Learning)\n",
        "4. Boosting dengan XGBoost (Ensemble Learning)\n",
        "\n",
        "Untuk metrik evaluasinya ditampilkan\n",
        "1. Accuracy\n",
        "2. Recall\n",
        "3. Precision\n",
        "4. F1-Score\n",
        "5. ROC-AUC\n",
        "6. Null Accuracy\n",
        "7. Overfitting/Underfitting Checking\n",
        "\n",
        "Selain itu, dilakukan juga hyperparameter tuning dengan menggunakan Randomized Search"
      ],
      "metadata": {
        "id": "P7_z_G_zU3Gb"
      }
    },
    {
      "cell_type": "markdown",
      "source": [
        "#### Hasil"
      ],
      "metadata": {
        "id": "Fp6U_kTmykNY"
      }
    },
    {
      "cell_type": "markdown",
      "source": [
        "Hasil terbaik didapatkan pada Bagging dengan model Random Forest dan data undersampling dengan rincian skor sebagai berikut:\n",
        "* Accuracy (Test Set): 0.8651\n",
        "* Precision (Test Set): 0.8489\n",
        "* Recall (Test Set): 0.9008\n",
        "* F1-Score (Test Set): 0.8741\n",
        "* AUC: 0.86"
      ],
      "metadata": {
        "id": "-HBBQvYLzHKJ"
      }
    }
  ]
}